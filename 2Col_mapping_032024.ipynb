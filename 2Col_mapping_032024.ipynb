{
 "cells": [
  {
   "cell_type": "markdown",
   "id": "e1f224d6-c2ec-4a5f-9d92-d99df1893c7e",
   "metadata": {},
   "source": [
    "# Mapping COL_032024 seq data"
   ]
  },
  {
   "cell_type": "markdown",
   "id": "d1aaad95-f3f0-4204-a1f0-ddd879334af0",
   "metadata": {},
   "source": [
    "Using bowtie2 and Anvi'o\n",
    "\n",
    "https://anvio.org/\n",
    "\n",
    "https://merenlab.org/tutorials/assembly-based-metagenomics/"
   ]
  },
  {
   "cell_type": "markdown",
   "id": "86eaee87-b31f-4bcf-8bfe-d74b92474bdb",
   "metadata": {},
   "source": [
    "Already created an anvio conda environment in 1Col_assembly_032024.ipynb"
   ]
  },
  {
   "cell_type": "code",
   "execution_count": null,
   "id": "80e628e6-c035-41d6-8416-089912d2e223",
   "metadata": {},
   "outputs": [],
   "source": [
    "#!/bin/bash\n",
    "#SBATCH -c 24  # Number of Cores per Task\n",
    "#SBATCH --mem=180G  # Requested Memory\n",
    "#SBATCH -p cpu  # Partition\n",
    "#SBATCH -t 24:00:00  # Job time limit\n",
    "#SBATCH --mail-type=ALL\n",
    "#SBATCH -o /work/pi_sarah_gignouxwolfsohn_uml_edu/nikea/COL/mapping/pstr/slurm-mapping-%j.out  # %j = job ID\n",
    "\n",
    "module load conda/latest\n",
    "conda activate anvio-8\n",
    "\n",
    "SAMPLENAME=\"pstr\"\n",
    "READSPATH=\"/work/pi_sarah_gignouxwolfsohn_uml_edu/nikea/COL/assembly/${SAMPLENAME}/repaired\"\n",
    "CONTIGPATH=\"/work/pi_sarah_gignouxwolfsohn_uml_edu/nikea/COL/assembly/${SAMPLENAME}/megahit_assembly\"\n",
    "CONTIGFILE=\"$SAMPLENAME\".contigs.fa\n",
    "WORKPATH=\"/work/pi_sarah_gignouxwolfsohn_uml_edu/nikea/COL/mapping/${SAMPLENAME}\"\n",
    "mkdir -p \"$WORKPATH\"\n",
    "XTRAFILES=\"/project/pi_sarah_gignouxwolfsohn_uml_edu/nikea/COL_files/mapping/${SAMPLENAME}\"\n",
    "mkdir -p \"$XTRAFILES\"\n",
    "LISTPATH=\"/work/pi_sarah_gignouxwolfsohn_uml_edu/nikea/COL/\"\n",
    "SAMPLELIST=\"032024_pstr_sampleids.txt\" \n",
    " \n",
    "anvi-script-reformat-fasta $CONTIGPATH/$CONTIGFILE -o $WORKPATH/\"${SAMPLENAME}.contigs-fixed.fsa\" -l 1000 --simplify-names --report-file $WORKPATH/contig-rename-report-txt\n",
    "\n",
    "#fixes deflines (filters contigs and reformats so naming is cleaner)\n",
    "#filtering seq length 1000bp...need to play around with filtering based on bp length\n",
    "#deflines = sequence definition line. comes directly before its associated sequence in a fasta file\n",
    "\n",
    "\n",
    "FIXEDCON=\"${SAMPLENAME}.contigs-fixed.fsa\"\n",
    "\n",
    "cd $WORKPATH\n",
    "#this builds an index of your contigs, which only needs to happen once\n",
    "bowtie2-build $FIXEDCON \"$SAMPLENAME\"_contigs\n",
    "# will not accept path before contigs file - must be in the correct dir \n",
    "\n",
    "while IFS= read -r SAMPLEID; do\n",
    "    #align reads to your contigs and collects that in a .sam file\n",
    "    bowtie2 --threads 11 -x \"$SAMPLENAME\"_contigs -1 $READSPATH/\"${SAMPLEID}\"_host_removed_R1.tagged_filter_ready.fastq.gz -2 $READSPATH/\"${SAMPLEID}\"_host_removed_R2.tagged_filter_ready.fastq.gz -S $XTRAFILES/\"${SAMPLEID}\".sam\n",
    "    #make sure to point it to the index not the FIXEDCON file (-x parameter)\n",
    "    \n",
    "    #converts your sam file to a bam file, but its neither sorted nor indexed, so we use an Anvi'O script to do so:\n",
    "    samtools view -F 4 -b -S $XTRAFILES/\"${SAMPLEID}\".sam -o $WORKPATH/\"${SAMPLEID}\"-RAW.bam\n",
    "   \n",
    "    #index and sort your bam file\n",
    "    anvi-init-bam $WORKPATH/\"${SAMPLEID}\"-RAW.bam -o $WORKPATH/\"${SAMPLEID}\".bam\n",
    "    \n",
    "    rm $WORKPATH/\"${SAMPLEID}\"-RAW.bam\n",
    "done < \"$LISTPATH/${SAMPLELIST}\"\n",
    "echo \"Mapping success!\"\n",
    "\n",
    "#JOB ID: 26798605 (ran til bowtie step), 26800164 (completed)\n",
    "#bash script: nikea/COL/bash_scripts/Col_mapping.sh"
   ]
  },
  {
   "cell_type": "markdown",
   "id": "ed28fae4-536b-4df0-ab35-dcdeb8ccfc1b",
   "metadata": {},
   "source": [
    "changed sample name and ran the others \\\n",
    "ofav (Job ID: 26813039) \\\n",
    "mcav (Job ID: 26816155) \\\n",
    "dlab (Job ID: 26819489)"
   ]
  },
  {
   "cell_type": "markdown",
   "id": "94f505bd-83e8-4cc4-a323-de33625df518",
   "metadata": {},
   "source": [
    "contigs <1000 bp removed (that's a lot of them, maybe need to re-think assembly) \\\n",
    "pstr: 70-80% mapped\n",
    "    \n",
    "ofav: 81-83% mapped\n",
    "\n",
    "mcav: 65-70% mapped\n",
    "\n",
    "dlab: "
   ]
  }
 ],
 "metadata": {
  "kernelspec": {
   "display_name": "Python 3 (ipykernel)",
   "language": "python",
   "name": "python3"
  },
  "language_info": {
   "codemirror_mode": {
    "name": "ipython",
    "version": 3
   },
   "file_extension": ".py",
   "mimetype": "text/x-python",
   "name": "python",
   "nbconvert_exporter": "python",
   "pygments_lexer": "ipython3",
   "version": "3.11.0"
  }
 },
 "nbformat": 4,
 "nbformat_minor": 5
}
