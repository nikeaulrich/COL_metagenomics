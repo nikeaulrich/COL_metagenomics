{
 "cells": [
  {
   "cell_type": "markdown",
   "id": "27d1611a-aa06-42fa-b7d0-4c3847a2d424",
   "metadata": {},
   "source": [
    "# Binning COL_032024 seq data"
   ]
  },
  {
   "cell_type": "markdown",
   "id": "78886813-eecf-4b5d-bf71-94721d8b81e4",
   "metadata": {},
   "source": [
    "Goal: use a combination of MetaBAT, MaxBin, CONCOCT. Then use DAS Tool to integrate the results of these binning algorithms to calculate an optimized, non-redundant set of bins from a single assembly"
   ]
  },
  {
   "cell_type": "markdown",
   "id": "8faabc50-28d0-4412-a685-8267faabb253",
   "metadata": {},
   "source": [
    "Software:\n",
    "\n",
    "MetaBAT2: https://bitbucket.org/berkeleylab/metabat/src/master/README.md\n",
    "\n",
    "MaxBin2:https://flowcraft.readthedocs.io/en/latest/user/components/maxbin2.html\n",
    "\n",
    "CONCOCT: https://github.com/BinPro/CONCOCT; https://concoct.readthedocs.io/en/latest/usage.html\n",
    "\n",
    "CheckM: https://github.com/Ecogenomics/CheckM/wiki\n",
    "\n",
    "DAS_tool: https://github.com/cmks/DAS_Tool"
   ]
  },
  {
   "cell_type": "code",
   "execution_count": null,
   "id": "378f8520-6796-4a15-96d5-e0c18ac7f2cf",
   "metadata": {},
   "outputs": [],
   "source": [
    "#INSTALLATION env\n",
    "\n",
    "module load conda/latest\n",
    "conda create -n binning python=3.7\n",
    "conda activate binning\n",
    "conda install -c bioconda metabat2\n",
    "conda install -c bioconda checkm-genome\n"
   ]
  },
  {
   "cell_type": "markdown",
   "id": "f0176b6b-ce12-4575-8d37-90aa616f2998",
   "metadata": {},
   "source": [
    "**Started with dlab**"
   ]
  },
  {
   "cell_type": "markdown",
   "id": "81914638-56ba-410d-8da4-8b91d0dd3b80",
   "metadata": {},
   "source": [
    "### MetaBAT2\n",
    "\n",
    "https://bitbucket.org/berkeleylab/metabat/src/master/README.md"
   ]
  },
  {
   "cell_type": "code",
   "execution_count": null,
   "id": "0f6e6a4d-2d74-404e-9953-bc37d0a597c7",
   "metadata": {},
   "outputs": [],
   "source": [
    "#!/bin/bash\n",
    "#SBATCH -c 24  # Number of Cores per Task\n",
    "#SBATCH --mem=50G  # Requested Memory\n",
    "#SBATCH -p cpu  # Partition\n",
    "#SBATCH -t 24:00:00  # Job time limit\n",
    "#SBATCH --mail-type=ALL\n",
    "#SBATCH -o /work/pi_sarah_gignouxwolfsohn_uml_edu/nikea/COL/binning/dlab/slurm-metabat2binning-%j.out  # %j = job ID  # %j = job ID\n",
    "\n",
    "module load conda/latest\n",
    "conda activate binning\n",
    "\n",
    "#set parameters for binning:\n",
    "SAMPLENAME=\"dlab\"\n",
    "BINDIR=\"/work/pi_sarah_gignouxwolfsohn_uml_edu/nikea/COL/binning/${SAMPLENAME}/MetaBAT2_bins\"\n",
    "mkdir -p $BINDIR\n",
    "CONTIGPATH=\"/work/pi_sarah_gignouxwolfsohn_uml_edu/nikea/COL/mapping/${SAMPLENAME}\"\n",
    "CONTIGFILE=\"${SAMPLENAME}.contigs-fixed.fsa\"\n",
    "\n",
    "#create depth file for MetaBat2\n",
    "jgi_summarize_bam_contig_depths --outputDepth $BINDIR/MetaBAT2_depth.txt $CONTIGPATH/*.bam\n",
    "\n",
    "#MetaBat2 script with verbose output, minimum length (m)(has to be >=1500) and no min bin size \n",
    "metabat2 -i $CONTIGPATH/$CONTIGFILE -a $BINDIR/MetaBAT2_depth.txt \\\n",
    "-o $BINDIR/metabat2 -m 1500\n",
    "\n",
    "# MetaBAT2 (v2:2.17)\n",
    "# default parameters:\n",
    "#-m [ --minContig ] arg (=2500)    Minimum size of a contig for binning (should be >=1500).\n",
    "#  --maxP arg (=95)                  Percentage of 'good' contigs considered for binning decided by connection\n",
    "#                                    among contigs. The greater, the more sensitive.\n",
    "#  --minS arg (=60)                  Minimum score of a edge for binning (should be between 1 and 99). The \n",
    "#                                    greater, the more specific.\n",
    "#  --maxEdges arg (=200)             Maximum number of edges per node. The greater, the more sensitive.\n",
    "#  --pTNF arg (=0)                   TNF probability cutoff for building TNF graph. Use it to skip the \n",
    "#                                    preparation step. (0: auto).\n",
    "#  -x [ --minCV ] arg (=1)           Minimum mean coverage of a contig in each library for binning.\n",
    "#  --minCVSum arg (=1)               Minimum total effective mean coverage of a contig (sum of depth over \n",
    "#                                    minCV) for binning.\n",
    "#  -s [ --minClsSize ] arg (=200000) Minimum size of a bin as the output.\n",
    "#  -t [ --numThreads ] arg (=0)      Number of threads to use (0: use all cores).\n",
    "\n",
    "#this runs CheckM immediately after and puts the results alongside your bins\n",
    "checkm lineage_wf -x fa -t 3 $BINDIR/ $BINDIR/bins-stats\n",
    "\n",
    "# JOB-ID: 26840000\n",
    "# bash script file name: /nikea/COL/bash_scripts/Col_metabat2_binning.sh"
   ]
  },
  {
   "cell_type": "markdown",
   "id": "7da6872c-f6f9-4be9-98ed-d57ec1e32c4b",
   "metadata": {},
   "source": [
    "MetaBAT2 documentation: \\\n",
    "In MetaBAT 2, parameter optimization will be unnecessary, though we allowed a few parameters so that advanced users might play with them. \\\n",
    "You can decrease -m (--minContig) when the qualities of both assembly and formed bins with default value are very good. \\\n",
    "You can decrease --maxP and --maxEdges when the qualities of both assembly and formed bins are very bad. \\\n",
    "You can increase --maxEdges when the completeness level is low, for many datasets we typically use 500. \\\n",
    "You can increase --minS when the qualities of both assembly and formed bins are very bad. \\\n",
    "Set --noAdd when added small or leftover contigs cause too much contamination. \\\n",
    "Set --pTNF positive numbers (1-99) to skip the TNF graph building preparation step. Otherwise, it will be automatically decided based on --maxP. Use this to reproduce previous result. \\\n",
    "Set --seed positive numbers to reproduce the result exactly. Otherwise, random seed will be set each time."
   ]
  },
  {
   "cell_type": "code",
   "execution_count": null,
   "id": "05241fb2-245f-4d90-bf32-f8c1847fdf7b",
   "metadata": {},
   "outputs": [],
   "source": [
    "------------------------------------------------------------------------------------------------------------------------------------------------------------------------------\n",
    "  Bin Id                 Marker lineage            # genomes   # markers   # marker sets    0     1    2    3   4   5+   Completeness   Contamination   Strain heterogeneity  \n",
    "------------------------------------------------------------------------------------------------------------------------------------------------------------------------------\n",
    "  metabat2.4         k__Bacteria (UID2495)            2993        140            85         6    131   3    0   0   0       94.71            2.55               0.00          \n",
    "  metabat2.1    c__Alphaproteobacteria (UID3305)      564         349           230         25   324   0    0   0   0       91.35            0.00               0.00          \n",
    "  metabat2.18        k__Bacteria (UID3187)            2258        188           117         51   136   1    0   0   0       70.98            0.05               0.00          \n",
    "  metabat2.25   c__Gammaproteobacteria (UID4267)      119         544           284        177   365   2    0   0   0       62.59            0.70              50.00          \n",
    "  metabat2.8    c__Alphaproteobacteria (UID3305)      564         349           230        122   212   14   1   0   0       61.86            3.93              76.47          \n",
    "  metabat2.6         k__Bacteria (UID2570)            433         274           183        114   156   4    0   0   0       58.91            1.28               0.00          \n",
    "  metabat2.11         k__Bacteria (UID203)            5449        104            58         74    30   0    0   0   0       44.83            0.00               0.00          \n",
    "  metabat2.13        k__Bacteria (UID1453)            901         171           117        106    62   2    1   0   0       21.99            0.66               0.00          \n",
    "  metabat2.14          k__Archaea (UID2)              207         149           107        131    18   0    0   0   0       11.05            0.00               0.00          \n",
    "  metabat2.2          k__Bacteria (UID203)            5449        104            58         91    13   0    0   0   0        8.83            0.00               0.00          \n",
    "  metabat2.22          k__Archaea (UID2)              207         149           107        144    5    0    0   0   0        1.94            0.00               0.00          \n",
    "  metabat2.9              root (UID1)                 5656         56            24         56    0    0    0   0   0        0.00            0.00               0.00          \n",
    "  metabat2.7              root (UID1)                 5656         56            24         56    0    0    0   0   0        0.00            0.00               0.00          \n",
    "  metabat2.5              root (UID1)                 5656         56            24         56    0    0    0   0   0        0.00            0.00               0.00          \n",
    "  metabat2.3              root (UID1)                 5656         56            24         56    0    0    0   0   0        0.00            0.00               0.00          \n",
    "  metabat2.24             root (UID1)                 5656         56            24         56    0    0    0   0   0        0.00            0.00               0.00          \n",
    "  metabat2.23             root (UID1)                 5656         56            24         56    0    0    0   0   0        0.00            0.00               0.00          \n",
    "  metabat2.21             root (UID1)                 5656         56            24         56    0    0    0   0   0        0.00            0.00               0.00          \n",
    "  metabat2.20             root (UID1)                 5656         56            24         56    0    0    0   0   0        0.00            0.00               0.00          \n",
    "  metabat2.19             root (UID1)                 5656         56            24         56    0    0    0   0   0        0.00            0.00               0.00          \n",
    "  metabat2.17             root (UID1)                 5656         56            24         56    0    0    0   0   0        0.00            0.00               0.00          \n",
    "  metabat2.16             root (UID1)                 5656         56            24         56    0    0    0   0   0        0.00            0.00               0.00          \n",
    "  metabat2.15             root (UID1)                 5656         56            24         56    0    0    0   0   0        0.00            0.00               0.00          \n",
    "  metabat2.12             root (UID1)                 5656         56            24         56    0    0    0   0   0        0.00            0.00               0.00          \n",
    "  metabat2.10             root (UID1)                 5656         56            24         56    0    0    0   0   0        0.00            0.00               0.00          \n",
    "------------------------------------------------------------------------------------------------------------------------------------------------------------------------------"
   ]
  },
  {
   "cell_type": "code",
   "execution_count": null,
   "id": "65ea6c6b-f2ad-4036-b6c2-9ff2bbb16b0e",
   "metadata": {},
   "outputs": [],
   "source": [
    "#note for later:\n",
    "#This might be useful for preparing results from metabat2 for downstream\n",
    "for i in metabat2/*.fa ; do \n",
    "    bin=$(echo $i | cut -d \"/\" -f2 | cut -d \".\" -f1-2 | sed 's/\\./_/g')\n",
    "    grep \">\" $i | cut -d \">\" -f2 | sed \"s/$/\\t$bin/g\" \\\n",
    "    >> metabat2/contig_bins.tsv\n",
    "done"
   ]
  },
  {
   "cell_type": "markdown",
   "id": "9c9ffd4a-237b-4691-9542-e99a00fc8ff5",
   "metadata": {},
   "source": [
    "### CONCOCT\n",
    "https://concoct.readthedocs.io/en/latest/installation.html"
   ]
  },
  {
   "cell_type": "code",
   "execution_count": null,
   "id": "57ec0966-d641-43ad-9d63-fa7a424f99e8",
   "metadata": {},
   "outputs": [],
   "source": [
    "#INSTALLATION (recommended it is installed in an isolated env)\n",
    "conda config --add channels defaults\n",
    "conda config --add channels bioconda\n",
    "conda config --add channels conda-forge\n",
    "\n",
    "conda create -n concoct_env python=3 concoct"
   ]
  },
  {
   "cell_type": "code",
   "execution_count": null,
   "id": "51d82cf7-f712-4290-8f92-8455e10981eb",
   "metadata": {},
   "outputs": [],
   "source": [
    "#!/bin/bash\n",
    "#SBATCH -c 24  # Number of Cores per Task\n",
    "#SBATCH --mem=50G  # Requested Memory\n",
    "#SBATCH -p cpu  # Partition\n",
    "#SBATCH -t 24:00:00  # Job time limit\n",
    "#SBATCH --mail-type=ALL\n",
    "#SBATCH -o /work/pi_sarah_gignouxwolfsohn_uml_edu/nikea/COL/binning/dlab/slurm-concoctbinning-%j.out  # %j = job ID  # %j = job ID\n",
    "\n",
    "module load conda/latest\n",
    "conda activate concoct_env\n",
    "\n",
    "#set parameters\n",
    "SAMPLENAME=\"dlab\"\n",
    "BINPATH=\"/work/pi_sarah_gignouxwolfsohn_uml_edu/nikea/COL/binning/${SAMPLENAME}/CONCOCT_bins\"\n",
    "mkdir -p $BINPATH\n",
    "CONTIGPATH=\"/work/pi_sarah_gignouxwolfsohn_uml_edu/nikea/COL/mapping/${SAMPLENAME}\"\n",
    "CONTIGFILE=\"${SAMPLENAME}.contigs-fixed.fsa\"\n",
    "BAMPATH=\"/work/pi_sarah_gignouxwolfsohn_uml_edu/nikea/COL/mapping/${SAMPLENAME}\"\n",
    "\n",
    "TEMPDIR=\"/project/pi_sarah_gignouxwolfsohn_uml_edu/nikea/COL_files/binning/concoct_${SAMPLENAME}_temp\"\n",
    "mkdir -p $TEMPDIR\n",
    "\n",
    "#creates the CONCOCT depth file\n",
    "#this part cuts up the contigs into 10kb pieces for CONCOCT to use \n",
    "cut_up_fasta.py $CONTIGPATH/$CONTIGFILE -c 10000 -o 0 --merge_last -b $BINPATH/${SAMPLENAME}_contigs_cut.bed > $BINPATH/${SAMPLENAME}_contigs_cut.fa\n",
    "\n",
    "#estimate contig coverage\n",
    "concoct_coverage_table.py $BINPATH/${SAMPLENAME}_contigs_cut.bed $BAMPATH/*.bam > $BINPATH/coverage_table_${SAMPLENAME}.tsv || { echo 'Exit code 2: failed to create coverage file, exiting.' && exit; }\n",
    "\n",
    "#run CONCOCT\n",
    "concoct --composition_file $BINPATH/${SAMPLENAME}_contigs_cut.fa --coverage_file $BINPATH/coverage_table_${SAMPLENAME}.tsv -t 3 -b $TEMPDIR || { echo 'Exit code 3: CONCOCT failed to run, exiting.' && exit; }\n",
    "merge_cutup_clustering.py $TEMPDIR/clustering_gt1000.csv > $TEMPDIR/${SAMPLENAME}_clustering_merged.csv || { echo 'Exit code 4: failed to merge clusters, exiting.' && exit; }\n",
    "extract_fasta_bins.py $CONTIGPATH/$CONTIGFILE $TEMPDIR/${SAMPLENAME}_clustering_merged.csv --output_path $BINPATH || { echo 'Exit code 5: Bins were not extracted, exiting.' && exit; }\n",
    "\n",
    "# Checkm is in binning env so switching environments \n",
    "conda deactivate\n",
    "\n",
    "conda activate binning\n",
    "\n",
    "#this runs CheckM immediately after and puts the results alongside your bins\n",
    "checkm lineage_wf -x fa -t 3 $BINPATH  $BINPATH/CheckM_stats\n",
    "\n",
    "# JOB-ID:26840140\n",
    "# bash script file name: /nikea/COL/bash_scripts/Col_concoct_binning.sh"
   ]
  }
 ],
 "metadata": {
  "kernelspec": {
   "display_name": "Python 3 (ipykernel)",
   "language": "python",
   "name": "python3"
  },
  "language_info": {
   "codemirror_mode": {
    "name": "ipython",
    "version": 3
   },
   "file_extension": ".py",
   "mimetype": "text/x-python",
   "name": "python",
   "nbconvert_exporter": "python",
   "pygments_lexer": "ipython3",
   "version": "3.11.0"
  }
 },
 "nbformat": 4,
 "nbformat_minor": 5
}
