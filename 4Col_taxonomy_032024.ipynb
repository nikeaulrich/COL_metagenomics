{
 "cells": [
  {
   "cell_type": "markdown",
   "id": "7f1819fc-037e-469e-84da-c4a596fd4981",
   "metadata": {},
   "source": [
    "# Classifying taxonomy COL_032024 seq data"
   ]
  },
  {
   "cell_type": "markdown",
   "id": "13eb3035-5a18-4ffb-beac-8e358851b722",
   "metadata": {},
   "source": [
    "Using GTDB-Tk: https://github.com/Ecogenomics/GTDBTk?tab=readme-ov-file\n",
    "GTDB-Tk identifies a core set of genes in the MAG, and use these to compute a species phylogeny"
   ]
  },
  {
   "cell_type": "markdown",
   "id": "b799989d-ef75-4d52-b5fb-d58943b427d4",
   "metadata": {},
   "source": [
    "**The gtdb reference database needs 100GB space so do not create conda env in /home directory. Either create the env in /work or /scratch**"
   ]
  },
  {
   "cell_type": "markdown",
   "id": "b8f0fd24-12a9-4754-a841-757966ebb912",
   "metadata": {},
   "source": [
    "I used this opportunity to create a /scratch directory with this documentation: https://docs.unity.rc.umass.edu/documentation/managing-files/hpc-workspace/"
   ]
  },
  {
   "cell_type": "code",
   "execution_count": null,
   "id": "c7e5f8d3-550c-4d89-99a2-76982e598922",
   "metadata": {},
   "outputs": [],
   "source": [
    "#create scratch directory\n",
    "ws_allocate gtdb 30\n",
    "\n",
    "#FOR LATER:to release scratch space when you don't need it anymore\n",
    "ws_release gtdb"
   ]
  },
  {
   "cell_type": "raw",
   "id": "d1631a38-e14c-4061-a88e-7de6f570b912",
   "metadata": {},
   "source": [
    "Info: creating workspace.\n",
    "/scratch3/workspace/nikea_ulrich_uml_edu-gtdb\n",
    "remaining extensions  : 3\n",
    "remaining time in days: 30"
   ]
  },
  {
   "cell_type": "code",
   "execution_count": null,
   "id": "2fae9459-f639-4728-916c-1dfe393feb19",
   "metadata": {},
   "outputs": [],
   "source": [
    "#INSTALLATION of gtdbtk in /work\n",
    "cd /scratch3/workspace/nikea_ulrich_uml_edu-gtdb\n",
    "module load conda/latest\n",
    "mkdir -p /scratch3/workspace/nikea_ulrich_uml_edu-gtdb/envs\n",
    "conda create --prefix /scratch3/workspace/nikea_ulrich_uml_edu-gtdb/envs/taxonomy python=3.8\n",
    "conda activate /scratch3/workspace/nikea_ulrich_uml_edu-gtdb/envs/taxonomy\n",
    "conda install -c conda-forge -c bioconda gtdbtk=2.4.0 "
   ]
  },
  {
   "cell_type": "code",
   "execution_count": null,
   "id": "35b481da-c22c-4400-894a-cb20cbb97379",
   "metadata": {},
   "outputs": [],
   "source": [
    "#conda package is bundled with a script that will automatically download, and extract the GTDB-Tk reference data, simply run:\n",
    "download-db.sh\n",
    "#This will take awhile -- massive database"
   ]
  },
  {
   "cell_type": "markdown",
   "id": "764ec254-7a0c-4c37-b2cd-8d714066e2dc",
   "metadata": {},
   "source": [
    "https://ecogenomics.github.io/GTDBTk/commands/classify_wf.html"
   ]
  },
  {
   "cell_type": "code",
   "execution_count": null,
   "id": "75a5abdc-e9c8-4b39-b6d0-c4de9a7b61fa",
   "metadata": {},
   "outputs": [],
   "source": [
    "#!/bin/bash\n",
    "#SBATCH -c 24  # Number of Cores per Task\n",
    "#SBATCH --mem=150G  # Requested Memory\n",
    "#SBATCH -p cpu  # Partition\n",
    "#SBATCH -t 24:00:00  # Job time limit\n",
    "#SBATCH --mail-type=ALL\n",
    "#SBATCH -o /work/pi_sarah_gignouxwolfsohn_uml_edu/nikea/COL/taxonomy/dlab/slurm-gtdb_taxonomy-%j.out  # %j = job ID  # %j = job ID\n",
    "\n",
    "module load conda/latest\n",
    "conda activate /scratch3/workspace/nikea_ulrich_uml_edu-gtdb/envs/taxonomy\n",
    "\n",
    "# Set parameters\n",
    "SAMPLENAME=\"dlab\"\n",
    "BINPATH=\"/work/pi_sarah_gignouxwolfsohn_uml_edu/nikea/COL/binning/${SAMPLENAME}/${SAMPLENAME}_DASTool_bins\"\n",
    "OUTDIR=\"/work/pi_sarah_gignouxwolfsohn_uml_edu/nikea/COL/taxonomy/${SAMPLENAME}\n",
    "mkdir -p $OUTDIR\n",
    "\n",
    "#Run gtdb-tk\n",
    "gtdbtk classify_wf --genome_dir $BINPATH --out_dir $OUTDIR/gtdb_out\n",
    "\n",
    "#This will process all genomes in the directory <my_genomes> using both bacterial and archaeal marker sets and place the results in <output_dir>.\n",
    "#Genomes must be in FASTA format (gzip with the extension .gz is acceptable)\n",
    "\n",
    "# JOB-ID:\n",
    "# bash script file name: /nikea/COL/bash_scripts/Col_gtdb_taxonomy.sh"
   ]
  }
 ],
 "metadata": {
  "kernelspec": {
   "display_name": "Python 3 (ipykernel)",
   "language": "python",
   "name": "python3"
  },
  "language_info": {
   "codemirror_mode": {
    "name": "ipython",
    "version": 3
   },
   "file_extension": ".py",
   "mimetype": "text/x-python",
   "name": "python",
   "nbconvert_exporter": "python",
   "pygments_lexer": "ipython3",
   "version": "3.11.0"
  }
 },
 "nbformat": 4,
 "nbformat_minor": 5
}
