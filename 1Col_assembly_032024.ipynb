{
 "cells": [
  {
   "cell_type": "markdown",
   "id": "febe5368-5d28-4058-b2b8-2699293c11e6",
   "metadata": {},
   "source": [
    "# Assembly COL_032024 seq data"
   ]
  },
  {
   "cell_type": "markdown",
   "id": "0c16d166-90d0-46a6-81d1-c89f8c920f7d",
   "metadata": {},
   "source": [
    "Reads have been run through QC and trimming (Col_qc.sh). Continuing on with SAMPLEID_R1/2_001_val_2.fq.gz files. Seq data is in /work/pi_sarah_gignouxwolfsohn_uml_edu/nikea/COL/trimmed and separated by coral species."
   ]
  },
  {
   "cell_type": "code",
   "execution_count": null,
   "id": "656faaae-3eee-4b6c-8a3a-de02995977e9",
   "metadata": {},
   "outputs": [],
   "source": [
    "#INSTALLATION envs\n",
    "module load conda/latest\n",
    "conda create -n assembly\n",
    "conda activate assembly\n",
    "conda install -c bioconda megahit\n",
    "conda install -c bioconda quast python=2.7\n",
    "\n",
    "module load conda/latest\n",
    "conda create -y --name anvio-8 python=3.10\n",
    "conda activate anvio-8\n",
    "conda install -y -c conda-forge -c bioconda python=3.10 \\\n",
    "        sqlite prodigal idba mcl muscle=3.8.1551 famsa hmmer diamond \\\n",
    "        blast megahit spades bowtie2 bwa graphviz \"samtools>=1.9\" \\\n",
    "        trimal iqtree trnascan-se fasttree vmatch r-base r-tidyverse \\\n",
    "        r-optparse r-stringi r-magrittr bioconductor-qvalue meme ghostscript \\\n",
    "        nodejs\n",
    "curl -L https://github.com/merenlab/anvio/releases/download/v8/anvio-8.tar.gz \\\n",
    "        --output anvio-8.tar.gz\n",
    "pip install anvio-8.tar.gz\n",
    "#the interactive server did not start, but will move forward and see how this goes, pretty sure it is installed"
   ]
  },
  {
   "cell_type": "markdown",
   "id": "f7cd0ac6-2cd5-4500-ad6f-19f90f08700e",
   "metadata": {},
   "source": [
    "Documentation for anvi'o https://anvio.org/install/linux/stable/"
   ]
  },
  {
   "cell_type": "markdown",
   "id": "623d03d3-b091-47e0-bcfd-1cbf0eabada8",
   "metadata": {},
   "source": [
    "Developing from Brooke's scripts, with these steps:\n",
    "\n",
    "1)remove host from sample reads \\\n",
    "2)remove symbiont and human seqs using fastq screen \\\n",
    "3)concatenate all f and r seqs into single file (1 for f, 1 for r) \\\n",
    "4)ASSEMBLE reads into contigs (contiguous sequence - joins them together based on read overlap, and ensures there are no gaps - larger portions of genomes if not all are now together in one sequence)"
   ]
  },
  {
   "cell_type": "markdown",
   "id": "fcbbdec9-febc-49ea-9d7c-b9a5ed2f87ac",
   "metadata": {},
   "source": [
    "to run the script below: sbatch Col_host_removal.sh"
   ]
  },
  {
   "cell_type": "code",
   "execution_count": null,
   "id": "eeea50b2-846e-4f5e-a0c3-a918b621cb1c",
   "metadata": {},
   "outputs": [],
   "source": [
    "#!/bin/bash\n",
    "#SBATCH -c 24  # Number of Cores per Task\n",
    "#SBATCH --mem=180G  # Requested Memory\n",
    "#SBATCH -p cpu  # Partition\n",
    "#SBATCH -t 24:00:00  # Job time limit\n",
    "#SBATCH --mail-type=ALL\n",
    "#SBATCH -o /work/pi_sarah_gignouxwolfsohn_uml_edu/nikea/COL/trimmed/MCAV/slurm-removal-%j.out  # %j = job ID\n",
    "\n",
    "module load conda/latest\n",
    "conda activate anvio-8\n",
    "\n",
    "# 1)remove host from sample reads\n",
    "#set general parameters:\n",
    "SAMPLENAME=\"mcav\"\n",
    "SAMPLELIST=\"032024_mcav_sampleids.txt\"\n",
    "RAWREADSPATH='/work/pi_sarah_gignouxwolfsohn_uml_edu/nikea/COL/trimmed/mcav'\n",
    "READSPATH=\"/work/pi_sarah_gignouxwolfsohn_uml_edu/nikea/COL/assembly/${SAMPLENAME}/host_removed\"\n",
    "mkdir -p $READSPATH\n",
    "EXTRAFILESPATH=\"/project/pi_sarah_gignouxwolfsohn_uml_edu/nikea/COL_files/host_removal/${SAMPLENAME}\"\n",
    "mkdir -p $EXTRAFILESPATH\n",
    "LISTPATH=\"/work/pi_sarah_gignouxwolfsohn_uml_edu/nikea/COL/\"\n",
    "#set step parameters \n",
    "GENOME=\"Mcav\"\n",
    "INPUTPATH=\"/project/pi_sarah_gignouxwolfsohn_uml_edu/Reference_genomes/${GENOME}_genome\"\n",
    "INDEX=\"${GENOME}_DB\"\n",
    "\n",
    "#build a bowtie2 index from a known genome\n",
    "# **using ofav since pstr is more closely related to ofav than mcav - (was only built for histat so need to redo for bowtie)\n",
    "#bowtie2-build $INPUTPATH/GCF_002042975.1_ofav_dov_v1_genomic.fna $INPUTPATH/\"$INDEX\"\n",
    "\n",
    "#loop through samples\n",
    "while IFS= read -r SAMPLEID; do\n",
    "#re-align reads back to the index\n",
    "bowtie2 -p 8 -x $INPUTPATH/$INDEX -1 \"$RAWREADSPATH\"/\"${SAMPLEID}_R1_001_val_1.fq.gz\" -2 \"$RAWREADSPATH\"/\"${SAMPLEID}_R2_001_val_2.fq.gz\" -S $EXTRAFILESPATH/\"${SAMPLEID}\"_mapped_and_unmapped.sam\n",
    "#convert sam file from bowtie to a bam file for processing\n",
    "samtools view -bS $EXTRAFILESPATH/\"${SAMPLEID}\"_mapped_and_unmapped.sam > $EXTRAFILESPATH/\"${SAMPLEID}\"_mapped_and_unmapped.bam\n",
    "#extract only the reads of which both do not match against the host genome\n",
    "samtools view -b -f 12 -F 256 $EXTRAFILESPATH/\"${SAMPLEID}\"_mapped_and_unmapped.bam > $EXTRAFILESPATH/\"${SAMPLEID}\"_bothReadsUnmapped.bam\n",
    "# sorts the file so both mates are together and then extracts them back as .fastq files\n",
    "samtools sort -n -m 5G -@ 2 $EXTRAFILESPATH/\"${SAMPLEID}\"_bothReadsUnmapped.bam -o $EXTRAFILESPATH/\"${SAMPLEID}\"_bothReadsUnmapped_sorted.bam\n",
    "samtools fastq -c 6 -@ 8 $EXTRAFILESPATH/\"${SAMPLEID}\"_bothReadsUnmapped_sorted.bam \\\n",
    "    -1 $READSPATH/\"${SAMPLEID}\"_host_removed_R1.fastq.gz \\\n",
    "    -2 $READSPATH/\"${SAMPLEID}\"_host_removed_R2.fastq.gz \\\n",
    "    -0 /dev/null -s /dev/null -n\n",
    " if [ $? -eq 0 ]; then\n",
    "        echo \"host removal completed successfully for sample: $SAMPLEID\"\n",
    "    else\n",
    "        echo \"host removal encountered an error for sample: $SAMPLEID\"\n",
    "        exit 1  \n",
    "    fi\n",
    "done < \"$LISTPATH/${SAMPLELIST}\"\n",
    "conda deactivate\n",
    "echo \"Host removal: All samples processed successfully.\"\n",
    "\n",
    "# JOB-ID:26516717\n",
    "# bash script file name: nikea/COL/Col_host_removal.sh"
   ]
  }
 ],
 "metadata": {
  "kernelspec": {
   "display_name": "Python 3 (ipykernel)",
   "language": "python",
   "name": "python3"
  },
  "language_info": {
   "codemirror_mode": {
    "name": "ipython",
    "version": 3
   },
   "file_extension": ".py",
   "mimetype": "text/x-python",
   "name": "python",
   "nbconvert_exporter": "python",
   "pygments_lexer": "ipython3",
   "version": "3.11.0"
  }
 },
 "nbformat": 4,
 "nbformat_minor": 5
}
