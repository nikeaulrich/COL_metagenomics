{
 "cells": [
  {
   "cell_type": "markdown",
   "id": "febe5368-5d28-4058-b2b8-2699293c11e6",
   "metadata": {},
   "source": [
    "# Assembly COL_032024 seq data"
   ]
  },
  {
   "cell_type": "markdown",
   "id": "0c16d166-90d0-46a6-81d1-c89f8c920f7d",
   "metadata": {},
   "source": [
    "Reads have been run through QC and trimming (Col_qc.sh). Continuing on with SAMPLEID_R1/2_001_val_2.fq.gz files. Seq data is in /work/pi_sarah_gignouxwolfsohn_uml_edu/nikea/COL/trimmed and separated by coral species."
   ]
  },
  {
   "cell_type": "code",
   "execution_count": null,
   "id": "656faaae-3eee-4b6c-8a3a-de02995977e9",
   "metadata": {},
   "outputs": [],
   "source": [
    "#INSTALLATION envs\n",
    "module load conda/latest\n",
    "conda create -n assembly\n",
    "conda activate assembly\n",
    "conda install -c bioconda megahit\n",
    "conda install -c bioconda quast python=2.7\n",
    "\n",
    "module load conda/latest\n",
    "conda create -y --name anvio-8 python=3.10\n",
    "conda activate anvio-8\n",
    "conda install -y -c conda-forge -c bioconda python=3.10 \\\n",
    "        sqlite prodigal idba mcl muscle=3.8.1551 famsa hmmer diamond \\\n",
    "        blast megahit spades bowtie2 bwa graphviz \"samtools>=1.9\" \\\n",
    "        trimal iqtree trnascan-se fasttree vmatch r-base r-tidyverse \\\n",
    "        r-optparse r-stringi r-magrittr bioconductor-qvalue meme ghostscript \\\n",
    "        nodejs\n",
    "curl -L https://github.com/merenlab/anvio/releases/download/v8/anvio-8.tar.gz \\\n",
    "        --output anvio-8.tar.gz\n",
    "pip install anvio-8.tar.gz\n",
    "#the interactive server did not start, but will move forward and see how this goes, pretty sure it is installed"
   ]
  },
  {
   "cell_type": "markdown",
   "id": "f7cd0ac6-2cd5-4500-ad6f-19f90f08700e",
   "metadata": {},
   "source": [
    "Documentation for anvi'o https://anvio.org/install/linux/stable/"
   ]
  },
  {
   "cell_type": "markdown",
   "id": "623d03d3-b091-47e0-bcfd-1cbf0eabada8",
   "metadata": {},
   "source": [
    "Developing from Brooke's scripts, with these steps:\n",
    "\n",
    "1)remove host from sample reads \\\n",
    "2)remove symbiont and human seqs using fastq screen \\\n",
    "3)concatenate all f and r seqs into single file (1 for f, 1 for r) \\\n",
    "4)ASSEMBLE reads into contigs (contiguous sequence - joins them together based on read overlap, and ensures there are no gaps - larger portions of genomes if not all are now together in one sequence)"
   ]
  },
  {
   "cell_type": "markdown",
   "id": "47bbacc8-020f-4291-9fa1-129e8a412a0e",
   "metadata": {},
   "source": [
    "## Host removal (step 1)"
   ]
  },
  {
   "cell_type": "markdown",
   "id": "ce15bcc8-ca76-4e46-a774-68d3bd7424d0",
   "metadata": {},
   "source": [
    "### Started with mcav files first!"
   ]
  },
  {
   "cell_type": "code",
   "execution_count": null,
   "id": "c1f9dd53-ae8c-47d9-95b8-0d6bc046b493",
   "metadata": {},
   "outputs": [],
   "source": [
    "sbatch Col_host_removal.sh"
   ]
  },
  {
   "cell_type": "code",
   "execution_count": null,
   "id": "eeea50b2-846e-4f5e-a0c3-a918b621cb1c",
   "metadata": {},
   "outputs": [],
   "source": [
    "#!/bin/bash\n",
    "#SBATCH -c 24  # Number of Cores per Task\n",
    "#SBATCH --mem=180G  # Requested Memory\n",
    "#SBATCH -p cpu  # Partition\n",
    "#SBATCH -t 24:00:00  # Job time limit\n",
    "#SBATCH --mail-type=ALL\n",
    "#SBATCH -o /work/pi_sarah_gignouxwolfsohn_uml_edu/nikea/COL/trimmed/MCAV/slurm-removal-%j.out  # %j = job ID\n",
    "\n",
    "module load conda/latest\n",
    "conda activate anvio-8\n",
    "\n",
    "# 1)remove host from sample reads\n",
    "#set general parameters:\n",
    "SAMPLENAME=\"mcav\"\n",
    "SAMPLELIST=\"032024_mcav_sampleids.txt\" \n",
    "#manually created the mcav_sampleids file from the whole sample list\n",
    "RAWREADSPATH='/work/pi_sarah_gignouxwolfsohn_uml_edu/nikea/COL/trimmed/mcav'\n",
    "READSPATH=\"/work/pi_sarah_gignouxwolfsohn_uml_edu/nikea/COL/assembly/${SAMPLENAME}/host_removed\"\n",
    "mkdir -p $READSPATH\n",
    "EXTRAFILESPATH=\"/project/pi_sarah_gignouxwolfsohn_uml_edu/nikea/COL_files/host_removal/${SAMPLENAME}\"\n",
    "mkdir -p $EXTRAFILESPATH\n",
    "LISTPATH=\"/work/pi_sarah_gignouxwolfsohn_uml_edu/nikea/COL/\"\n",
    "#set step parameters \n",
    "GENOME=\"Mcav\"\n",
    "INPUTPATH=\"/project/pi_sarah_gignouxwolfsohn_uml_edu/Reference_genomes/${GENOME}_genome\"\n",
    "INDEX=\"${GENOME}_DB\"\n",
    "\n",
    "#build a bowtie2 index from a known genome (this was already built for Mcav)\n",
    "#bowtie2-build $INPUTPATH/genomic.fna $INPUTPATH/\"$INDEX\"\n",
    "\n",
    "#loop through samples\n",
    "while IFS= read -r SAMPLEID; do\n",
    "#re-align reads back to the index\n",
    "bowtie2 -p 8 -x $INPUTPATH/$INDEX -1 \"$RAWREADSPATH\"/\"${SAMPLEID}_R1_001_val_1.fq.gz\" -2 \"$RAWREADSPATH\"/\"${SAMPLEID}_R2_001_val_2.fq.gz\" -S $EXTRAFILESPATH/\"${SAMPLEID}\"_mapped_and_unmapped.sam\n",
    "#convert sam file from bowtie to a bam file for processing\n",
    "samtools view -bS $EXTRAFILESPATH/\"${SAMPLEID}\"_mapped_and_unmapped.sam > $EXTRAFILESPATH/\"${SAMPLEID}\"_mapped_and_unmapped.bam\n",
    "#extract only the reads of which both do not match against the host genome\n",
    "samtools view -b -f 12 -F 256 $EXTRAFILESPATH/\"${SAMPLEID}\"_mapped_and_unmapped.bam > $EXTRAFILESPATH/\"${SAMPLEID}\"_bothReadsUnmapped.bam\n",
    "# sorts the file so both mates are together and then extracts them back as .fastq.gz files\n",
    "samtools sort -n -m 5G -@ 2 $EXTRAFILESPATH/\"${SAMPLEID}\"_bothReadsUnmapped.bam -o $EXTRAFILESPATH/\"${SAMPLEID}\"_bothReadsUnmapped_sorted.bam\n",
    "samtools fastq -c 6 -@ 8 $EXTRAFILESPATH/\"${SAMPLEID}\"_bothReadsUnmapped_sorted.bam \\\n",
    "    -1 $READSPATH/\"${SAMPLEID}\"_host_removed_R1.fastq.gz \\\n",
    "    -2 $READSPATH/\"${SAMPLEID}\"_host_removed_R2.fastq.gz \\\n",
    "    -0 /dev/null -s /dev/null -n\n",
    " if [ $? -eq 0 ]; then\n",
    "        echo \"host removal completed successfully for sample: $SAMPLEID\"\n",
    "    else\n",
    "        echo \"host removal encountered an error for sample: $SAMPLEID\"\n",
    "        exit 1  \n",
    "    fi\n",
    "done < \"$LISTPATH/${SAMPLELIST}\"\n",
    "conda deactivate\n",
    "echo \"Host removal: All samples processed successfully.\"\n",
    "\n",
    "# JOB-ID:26516717\n",
    "# bash script file name: nikea/COL/bash_scripts/Col_host_removal.sh"
   ]
  },
  {
   "cell_type": "markdown",
   "id": "f0d94622-5062-4033-80d2-9a4abe41c4ff",
   "metadata": {},
   "source": [
    "Outputs:\n",
    "\n",
    "The SAMs, sorted and unsorted BAMs are in /project.../COL_files/host_removal_mcav/ for storage reasons \\\n",
    "The host-removed fastq.gz files are in /work/.../COL/assembly/mcav/ for next step"
   ]
  },
  {
   "cell_type": "markdown",
   "id": "07b37228-59a2-49a4-86e3-294f32b2f8b5",
   "metadata": {},
   "source": [
    "Realized later that last sample (032024_COL_SAN_T5_150_MCAV_S8) didn't run (the loop skipped it). Hopefully fixed in later version of the script. Ran the job separately (Job ID:26677005)"
   ]
  },
  {
   "cell_type": "markdown",
   "id": "bcced914-2c71-40b2-af97-fe602ffbdb29",
   "metadata": {},
   "source": [
    "### Ofav files next"
   ]
  },
  {
   "cell_type": "code",
   "execution_count": null,
   "id": "ecdf7f93-85c1-4cae-a8b4-b08976e0b20b",
   "metadata": {},
   "outputs": [],
   "source": [
    "#!/bin/bash\n",
    "#SBATCH -c 24  # Number of Cores per Task\n",
    "#SBATCH --mem=180G  # Requested Memory\n",
    "#SBATCH -p cpu  # Partition\n",
    "#SBATCH -t 24:00:00  # Job time limit\n",
    "#SBATCH --mail-type=ALL\n",
    "#SBATCH -o /work/pi_sarah_gignouxwolfsohn_uml_edu/nikea/COL/slurm-removal-%j.out  # %j = job ID\n",
    "\n",
    "module load conda/latest\n",
    "conda activate anvio-8\n",
    "\n",
    "# 1)remove host from sample reads\n",
    "#set general parameters:\n",
    "SAMPLENAME=\"ofav\"\n",
    "SAMPLELIST=\"032024_ofav_sampleids.txt\"\n",
    "RAWREADSPATH='/work/pi_sarah_gignouxwolfsohn_uml_edu/nikea/COL/trimmed/ofav'\n",
    "READSPATH=\"/work/pi_sarah_gignouxwolfsohn_uml_edu/nikea/COL/assembly/${SAMPLENAME}/host_removed\"\n",
    "mkdir -p $READSPATH\n",
    "EXTRAFILESPATH=\"/project/pi_sarah_gignouxwolfsohn_uml_edu/nikea/COL_files/host_removal/${SAMPLENAME}\"\n",
    "mkdir -p $EXTRAFILESPATH\n",
    "LISTPATH=\"/work/pi_sarah_gignouxwolfsohn_uml_edu/nikea/COL/\"\n",
    "#set step parameters \n",
    "GENOME=\"Ofav\"\n",
    "INPUTPATH=\"/project/pi_sarah_gignouxwolfsohn_uml_edu/Reference_genomes/${GENOME}_genome\"\n",
    "INDEX=\"${GENOME}_DB\"\n",
    "\n",
    "#build a bowtie2 index from a known genome (this was already built for Ofav)\n",
    "#bowtie2-build $INPUTPATH/genomic.fna $INPUTPATH/\"$INDEX\"\n",
    "\n",
    "#loop through samples\n",
    "while IFS= read -r SAMPLEID; do\n",
    "#re-align reads back to the index\n",
    "bowtie2 -p 8 -x $INPUTPATH/$INDEX -1 \"$RAWREADSPATH\"/\"${SAMPLEID}_R1_001_val_1.fq.gz\" -2 \"$RAWREADSPATH\"/\"${SAMPLEID}_R2_001_val_2.fq.gz\" -S $EXTRAFILESPATH/\"${SAMPLEID}\"_mapped_and_unmapped.sam\n",
    "#convert sam file from bowtie to a bam file for processing\n",
    "samtools view -bS $EXTRAFILESPATH/\"${SAMPLEID}\"_mapped_and_unmapped.sam > $EXTRAFILESPATH/\"${SAMPLEID}\"_mapped_and_unmapped.bam\n",
    "#extract only the reads of which both do not match against the host genome\n",
    "samtools view -b -f 12 -F 256 $EXTRAFILESPATH/\"${SAMPLEID}\"_mapped_and_unmapped.bam > $EXTRAFILESPATH/\"${SAMPLEID}\"_bothReadsUnmapped.bam\n",
    "# sorts the file so both mates are together and then extracts them back as .fastq.gz files\n",
    "samtools sort -n -m 5G -@ 2 $EXTRAFILESPATH/\"${SAMPLEID}\"_bothReadsUnmapped.bam -o $EXTRAFILESPATH/\"${SAMPLEID}\"_bothReadsUnmapped_sorted.bam\n",
    "samtools fastq -c 6 -@ 8 $EXTRAFILESPATH/\"${SAMPLEID}\"_bothReadsUnmapped_sorted.bam \\\n",
    "    -1 $READSPATH/\"${SAMPLEID}\"_host_removed_R1.fastq.gz \\\n",
    "    -2 $READSPATH/\"${SAMPLEID}\"_host_removed_R2.fastq.gz \\\n",
    "    -0 /dev/null -s /dev/null -n\n",
    " if [ $? -eq 0 ]; then\n",
    "        echo \"host removal completed successfully for sample: $SAMPLEID\"\n",
    "    else\n",
    "        echo \"host removal encountered an error for sample: $SAMPLEID\"\n",
    "        exit 1  \n",
    "    fi\n",
    "done < \"$LISTPATH/${SAMPLELIST}\"\n",
    "conda deactivate\n",
    "echo \"Host removal: All samples processed successfully.\"\n",
    "\n",
    "# JOB-ID:26590329\n",
    "# bash script file name: nikea/COL/bash_scripts/Col_host_removal.sh"
   ]
  },
  {
   "cell_type": "markdown",
   "id": "136e7c07-f49a-41c1-aeac-ca02ab0cefc2",
   "metadata": {},
   "source": [
    "For some reason, 1 sample 032024_COL_SAN_T5_167_OFAV_S21 didn't get run but the script said all samples were successfully done. Everything looks fine (script ended before the time I allotted it). Will re-run for just that sample (job id: 26657822) "
   ]
  },
  {
   "cell_type": "markdown",
   "id": "9ee2a791-3c2b-4ade-8f49-b466d55fca60",
   "metadata": {},
   "source": [
    "### PSTR next"
   ]
  },
  {
   "cell_type": "markdown",
   "id": "7a2beaa2-14a8-4e8e-ab86-423a49821604",
   "metadata": {},
   "source": [
    "Will be using the new *Colpophyllia natans* genome as a reference (from this paper: https://pmc.ncbi.nlm.nih.gov/articles/PMC11370458/)"
   ]
  },
  {
   "cell_type": "code",
   "execution_count": null,
   "id": "83d4432d-885f-46a4-a524-5b33e28f4419",
   "metadata": {},
   "outputs": [],
   "source": [
    "#!/bin/bash\n",
    "#SBATCH -c 24  # Number of Cores per Task\n",
    "#SBATCH --mem=180G  # Requested Memory\n",
    "#SBATCH -p cpu  # Partition\n",
    "#SBATCH -t 24:00:00  # Job time limit\n",
    "#SBATCH --mail-type=ALL\n",
    "#SBATCH -o /work/pi_sarah_gignouxwolfsohn_uml_edu/nikea/COL/slurm-removal-%j.out  # %j = job ID\n",
    "\n",
    "module load conda/latest\n",
    "conda activate anvio-8\n",
    "\n",
    "# 1)remove host from sample reads\n",
    "#set general parameters:\n",
    "SAMPLENAME=\"pstr\"\n",
    "SAMPLELIST=\"032024_pstr_sampleids.txt\"\n",
    "RAWREADSPATH='/work/pi_sarah_gignouxwolfsohn_uml_edu/nikea/COL/trimmed/pstr'\n",
    "READSPATH=\"/work/pi_sarah_gignouxwolfsohn_uml_edu/nikea/COL/assembly/${SAMPLENAME}/host_removed\"\n",
    "mkdir -p $READSPATH\n",
    "EXTRAFILESPATH=\"/project/pi_sarah_gignouxwolfsohn_uml_edu/nikea/COL_files/host_removal/${SAMPLENAME}\"\n",
    "mkdir -p $EXTRAFILESPATH\n",
    "LISTPATH=\"/work/pi_sarah_gignouxwolfsohn_uml_edu/nikea/COL/\"\n",
    "#set step parameters \n",
    "GENOME=\"Cnat\"\n",
    "INPUTPATH=\"/project/pi_sarah_gignouxwolfsohn_uml_edu/Reference_genomes/${GENOME}_genome\"\n",
    "INDEX=\"${GENOME}_DB\"\n",
    "\n",
    "#build a bowtie2 index from a known genome (using C. natans genome)\n",
    "bowtie2-build $INPUTPATH/Cnat_genomic.fna $INPUTPATH/\"$INDEX\"\n",
    "\n",
    "#loop through samples\n",
    "while IFS= read -r SAMPLEID; do\n",
    "#re-align reads back to the index\n",
    "bowtie2 -p 8 -x $INPUTPATH/$INDEX -1 \"$RAWREADSPATH\"/\"${SAMPLEID}_R1_001_val_1.fq.gz\" -2 \"$RAWREADSPATH\"/\"${SAMPLEID}_R2_001_val_2.fq.gz\" -S $EXTRAFILESPATH/\"${SAMPLEID}\"_mapped_and_unmapped.sam\n",
    "#convert sam file from bowtie to a bam file for processing\n",
    "samtools view -bS $EXTRAFILESPATH/\"${SAMPLEID}\"_mapped_and_unmapped.sam > $EXTRAFILESPATH/\"${SAMPLEID}\"_mapped_and_unmapped.bam\n",
    "#extract only the reads of which both do not match against the host genome\n",
    "samtools view -b -f 12 -F 256 $EXTRAFILESPATH/\"${SAMPLEID}\"_mapped_and_unmapped.bam > $EXTRAFILESPATH/\"${SAMPLEID}\"_bothReadsUnmapped.bam\n",
    "# sorts the file so both mates are together and then extracts them back as .fastq.gz files\n",
    "samtools sort -n -m 5G -@ 2 $EXTRAFILESPATH/\"${SAMPLEID}\"_bothReadsUnmapped.bam -o $EXTRAFILESPATH/\"${SAMPLEID}\"_bothReadsUnmapped_sorted.bam\n",
    "samtools fastq -c 6 -@ 8 $EXTRAFILESPATH/\"${SAMPLEID}\"_bothReadsUnmapped_sorted.bam \\\n",
    "    -1 $READSPATH/\"${SAMPLEID}\"_host_removed_R1.fastq.gz \\\n",
    "    -2 $READSPATH/\"${SAMPLEID}\"_host_removed_R2.fastq.gz \\\n",
    "    -0 /dev/null -s /dev/null -n\n",
    " if [ $? -eq 0 ]; then\n",
    "        echo \"host removal completed successfully for sample: $SAMPLEID\"\n",
    "    else\n",
    "        echo \"host removal encountered an error for sample: $SAMPLEID\"\n",
    "        exit 1  \n",
    "    fi\n",
    "done < \"$LISTPATH/${SAMPLELIST}\"\n",
    "conda deactivate\n",
    "echo \"Host removal: All samples processed successfully.\"\n",
    "\n",
    "# JOB-ID:26661001\n",
    "# bash script file name: nikea/COL/bash_scripts/Col_host_removal_pstr.sh"
   ]
  },
  {
   "cell_type": "markdown",
   "id": "5fbcc428-88e5-435b-bad1-2d26b49050d0",
   "metadata": {},
   "source": [
    "Again last sample didn't run, must be something wrong with the loop or sample list file. Figure out before running DLAB!\n",
    "Job ID for 032024_COL_SAN_T5_162_PSTR_S39: 26667854"
   ]
  },
  {
   "cell_type": "markdown",
   "id": "27bdd393-4cf9-4bd9-b962-a52ceb585b8a",
   "metadata": {},
   "source": [
    "### DLAB last"
   ]
  },
  {
   "cell_type": "markdown",
   "id": "15758155-41b3-4bcd-a5dc-7c8c49bd5bb9",
   "metadata": {},
   "source": [
    "also using *C. natans* genome for mapping. Added command to remove .sam files in this bash script instead of deleting after. Also made sure I pressed enter after the last sample in the sample list (maybe that will help it read the last sample ID?) Will report back."
   ]
  },
  {
   "cell_type": "code",
   "execution_count": null,
   "id": "55e2c6b4-d63d-49bd-9b09-6a17d18dfdc2",
   "metadata": {},
   "outputs": [],
   "source": [
    "#!/bin/bash\n",
    "#SBATCH -c 24  # Number of Cores per Task\n",
    "#SBATCH --mem=180G  # Requested Memory\n",
    "#SBATCH -p cpu  # Partition\n",
    "#SBATCH -t 24:00:00  # Job time limit\n",
    "#SBATCH --mail-type=ALL\n",
    "#SBATCH -o /work/pi_sarah_gignouxwolfsohn_uml_edu/nikea/COL/slurm-removal-%j.out  # %j = job ID\n",
    "\n",
    "module load conda/latest\n",
    "conda activate anvio-8\n",
    "\n",
    "# 1)remove host from sample reads\n",
    "#set general parameters:\n",
    "SAMPLENAME=\"dlab\"\n",
    "SAMPLELIST=\"032024_dlab_sampleids.txt\"\n",
    "RAWREADSPATH='/work/pi_sarah_gignouxwolfsohn_uml_edu/nikea/COL/trimmed/dlab'\n",
    "READSPATH=\"/work/pi_sarah_gignouxwolfsohn_uml_edu/nikea/COL/assembly/${SAMPLENAME}/host_removed\"\n",
    "mkdir -p $READSPATH\n",
    "EXTRAFILESPATH=\"/project/pi_sarah_gignouxwolfsohn_uml_edu/nikea/COL_files/host_removal/${SAMPLENAME}\"\n",
    "mkdir -p $EXTRAFILESPATH\n",
    "LISTPATH=\"/work/pi_sarah_gignouxwolfsohn_uml_edu/nikea/COL/\"\n",
    "#set step parameters \n",
    "GENOME=\"Cnat\"\n",
    "INPUTPATH=\"/project/pi_sarah_gignouxwolfsohn_uml_edu/Reference_genomes/${GENOME}_genome\"\n",
    "INDEX=\"${GENOME}_DB\"\n",
    "\n",
    "#build a bowtie2 index from a known genome (using C. natans genome, indexes already built)\n",
    "#bowtie2-build $INPUTPATH/Cnat_genomic.fna $INPUTPATH/\"$INDEX\"\n",
    "\n",
    "#loop through samples\n",
    "while IFS= read -r SAMPLEID; do\n",
    "        echo \"starting on $SAMPLEID\"\n",
    "#re-align reads back to the index\n",
    "bowtie2 -p 8 -x $INPUTPATH/$INDEX -1 \"$RAWREADSPATH\"/\"${SAMPLEID}_R1_001_val_1.fq.gz\" -2 \"$RAWREADSPATH\"/\"${SAMPLEID}_R2_001_val_2.fq.gz\" -S $EXTRAFILESPATH/\"${SAMPLEID}\"_mapped_and_unmapped.sam\n",
    "#convert sam file from bowtie to a bam file for processing\n",
    "samtools view -bS $EXTRAFILESPATH/\"${SAMPLEID}\"_mapped_and_unmapped.sam > $EXTRAFILESPATH/\"${SAMPLEID}\"_mapped_and_unmapped.bam\n",
    "#extract only the reads of which both do not match against the host genome\n",
    "samtools view -b -f 12 -F 256 $EXTRAFILESPATH/\"${SAMPLEID}\"_mapped_and_unmapped.bam > $EXTRAFILESPATH/\"${SAMPLEID}\"_bothReadsUnmapped.bam\n",
    "# sorts the file so both mates are together and then extracts them back as .fastq.gz files\n",
    "samtools sort -n -m 5G -@ 2 $EXTRAFILESPATH/\"${SAMPLEID}\"_bothReadsUnmapped.bam -o $EXTRAFILESPATH/\"${SAMPLEID}\"_bothReadsUnmapped_sorted.bam\n",
    "samtools fastq -c 6 -@ 8 $EXTRAFILESPATH/\"${SAMPLEID}\"_bothReadsUnmapped_sorted.bam \\\n",
    "    -1 $READSPATH/\"${SAMPLEID}\"_host_removed_R1.fastq.gz \\\n",
    "    -2 $READSPATH/\"${SAMPLEID}\"_host_removed_R2.fastq.gz \\\n",
    "    -0 /dev/null -s /dev/null -n\n",
    " if [ $? -eq 0 ]; then\n",
    "        echo \"host removal completed successfully for sample: $SAMPLEID\"\n",
    "    else\n",
    "        echo \"host removal encountered an error for sample: $SAMPLEID\"\n",
    "        exit 1  \n",
    "    fi\n",
    "done < \"$LISTPATH/${SAMPLELIST}\"\n",
    "rm -rf $EXTRAFILESPATH/*.sam\n",
    "conda deactivate\n",
    "echo \"Host removal: All samples processed successfully.\"\n",
    "\n",
    "# JOB-ID: 26674335\n",
    "# bash script file name: nikea/COL/bash_scripts/Col_host_removal.sh"
   ]
  },
  {
   "cell_type": "markdown",
   "id": "d42c46de-140c-46ec-89d8-e9f90ccba602",
   "metadata": {},
   "source": [
    "This script went through all samples but failed at the end because I had a few extra spaces added to the sample list. *Make sure to \"enter\" just once after the last sample in the list.*"
   ]
  },
  {
   "cell_type": "markdown",
   "id": "fe320211-5b94-4290-ada7-b23a9b9f8218",
   "metadata": {},
   "source": [
    "*once host removal is finished for all samples, moved the /trimmed sequence files (...val...fastq) to /project to keep /work just the current sequences I'm moving forward with*"
   ]
  },
  {
   "cell_type": "markdown",
   "id": "fb60b8dd-caff-453f-8170-5a64249e578c",
   "metadata": {},
   "source": [
    "## Fastq-screen for symbiont and human seq removal (step 2)\n",
    "https://www.bioinformatics.babraham.ac.uk/projects/fastq_screen/"
   ]
  },
  {
   "cell_type": "code",
   "execution_count": null,
   "id": "98b003f0-e472-4058-9d96-aa8fbf20d07d",
   "metadata": {},
   "outputs": [],
   "source": [
    "#Installation\n",
    "module load conda/latest\n",
    "conda activate assembly\n",
    "conda install -c bioconda fastq-screen"
   ]
  },
  {
   "cell_type": "markdown",
   "id": "255cec4f-0833-42db-a205-fa73bc9b421f",
   "metadata": {},
   "source": [
    "Made the fastq-screen.conf file (tells the program what aligner to use and where all the databases are) \\\n",
    "fastq_screen.conf file below \\\n",
    "*added more symbiont databases to it. Used a quick bowtie script to index the new genomes I added*"
   ]
  },
  {
   "cell_type": "code",
   "execution_count": null,
   "id": "0b79782d-0533-497b-826b-0dbcb354ff71",
   "metadata": {},
   "outputs": [],
   "source": [
    "#!/bin/bash\n",
    "#SBATCH -c 24  # Number of Cores per Task\n",
    "#SBATCH --mem=50G  # Requested Memory\n",
    "#SBATCH -p cpu  # Partition\n",
    "#SBATCH -t 24:00:00  # Job time limit\n",
    "#SBATCH --mail-type=ALL\n",
    "#SBATCH -o /project/pi_sarah_gignouxwolfsohn_uml_edu/Reference_genomes/symbionts/slurm-index-%j.out  # %j = job ID\n",
    "\n",
    "module load conda/latest\n",
    "conda activate assembly\n",
    "\n",
    "#build a bowtie2 index \n",
    "bowtie2-build --threads 20 /project/pi_sarah_gignouxwolfsohn_uml_edu/Reference_genomes/symbionts/Genomes/GCA_963969995.1/GCA_963969995.1_Durusdinium_trenchii_SCF082.fna /project/pi_sarah_gignouxwolfsohn_uml_edu/Reference_genomes/symbionts/indexed/GCA_963969995.1_index\n",
    "\n",
    "bowtie2-build /project/pi_sarah_gignouxwolfsohn_uml_edu/Reference_genomes/symbionts/Genomes/GCA_947184155.2/GCA_947184155.2_Cgoreaui_SCF055-01_v2.1_genomic.fna /project/pi_sarah_gignouxwolfsohn_uml_edu/Reference_genomes/symbionts/indexed/GCA_947184155.2_index\n",
    "\n",
    "conda deactivate\n",
    "\n",
    "# Job ID: 26690898\n",
    "# bash script file name: nikea/COL/bash_scripts/bowtie2_indexing.sh"
   ]
  },
  {
   "cell_type": "markdown",
   "id": "6fb9ca22-d093-4c23-8ec7-dad475d615ea",
   "metadata": {},
   "source": [
    "Couldn't get GCA_963969995.1 to index for some reason. There is already a Durusdinium_trenchii indexed genome in the folder so I will keep with that for now."
   ]
  },
  {
   "cell_type": "code",
   "execution_count": null,
   "id": "c338ee36-c36c-4870-b51f-f3faf41f9e54",
   "metadata": {},
   "outputs": [],
   "source": [
    "############################\n",
    "## Bowtie, Bowtie 2 or BWA #\n",
    "############################\n",
    "## If the Bowtie, Bowtie 2 or BWA binary is not in your PATH, you can set \n",
    "## this value to tell the program where to find your chosen aligner.  Uncomment \n",
    "## the relevant line below and set the appropriate location.  Please note, \n",
    "## this path should INCLUDE the executable filename.\n",
    "\n",
    "#BOWTIE\t/usr/local/bin/bowtie/bowtie\n",
    "BOWTIE2 /home/nikea_ulrich_uml_edu/.conda/envs/assembly/bin/bowtie2\n",
    "#BWA /usr/local/bwa/bwa\n",
    "\n",
    "\n",
    "\n",
    "############################################\n",
    "## Bismark (for bisulfite sequencing only) #\n",
    "############################################\n",
    "## If the Bismark binary is not in your PATH then you can set this value to \n",
    "## tell the program where to find it.  Uncomment the line below and set the \n",
    "## appropriate location. Please note, this path should INCLUDE the executable \n",
    "## filename.\n",
    "\n",
    "#BISMARK\t/usr/local/bin/bismark/bismark\n",
    "\n",
    "\n",
    "\n",
    "############\n",
    "## Threads #\n",
    "############\n",
    "## Genome aligners can be made to run across multiple CPU cores to speed up \n",
    "## searches.  Set this value to the number of cores you want for mapping reads.\n",
    "\n",
    "THREADS\t\t12\n",
    "\n",
    "\n",
    "\n",
    "##############\n",
    "## DATABASES #\n",
    "##############\n",
    "## This section enables you to configure multiple genomes databases (aligner index \n",
    "## files) to search against in your screen.  For each genome you need to provide a \n",
    "## database name (which can't contain spaces) and the location of the aligner index \n",
    "## files.\n",
    "##\n",
    "## The path to the index files SHOULD INCLUDE THE BASENAME of the index, e.g:\n",
    "## /data/public/Genomes/Human_Bowtie/GRCh37/Homo_sapiens.GRCh37\n",
    "## Thus, the index files (Homo_sapiens.GRCh37.1.bt2, Homo_sapiens.GRCh37.2.bt2, etc.) \n",
    "## are found in a folder named 'GRCh37'.\n",
    "##\n",
    "## If, for example, the Bowtie, Bowtie2 and BWA indices of a given genome reside in \n",
    "## the SAME FOLDER, a SINLGE path may be provided to ALL the of indices.  The index \n",
    "## used will be the one compatible with the chosen aligner (as specified using the \n",
    "## --aligner flag).  \n",
    "##\n",
    "## The entries shown below are only suggested examples, you can add as many DATABASE \n",
    "## sections as required, and you can comment out or remove as many of the existing \n",
    "## entries as desired.  We suggest including genomes and sequences that may be sources \n",
    "## of contamination either because they where run on your sequencer previously, or may \n",
    "## have contaminated your sample during the library preparation step.\n",
    "##\n",
    "## Human - sequences available from\n",
    "## ftp://ftp.ensembl.org/pub/current/fasta/homo_sapiens/dna/\n",
    "## (Kraken2 RefSeq db)\n",
    "DATABASE\tHuman\t/project/pi_sarah_gignouxwolfsohn_uml_edu/Reference_genomes/ref_databases/standard/library/human/index\n",
    "##\n",
    "## added more databases and updated a few listed here with their updated assemblies 12.11.2024\n",
    "## Symbionts\n",
    "DATABASE\tSymbiont1\t/project/pi_sarah_gignouxwolfsohn_uml_edu/Reference_genomes/symbionts/indexed/Durusdinium_trenchii_indexed\n",
    "## Symbionts\n",
    "DATABASE\tSymbiont2\t/project/pi_sarah_gignouxwolfsohn_uml_edu/Reference_genomes/symbionts/indexed/GCA_000507305.1_index\n",
    "## Symbionts\n",
    "DATABASE\tSymbiont3\t/project/pi_sarah_gignouxwolfsohn_uml_edu/Reference_genomes/symbionts/indexed/GCA_001939145.1_index\n",
    "## Symbionts\n",
    "DATABASE\tSymbiont4\t/project/pi_sarah_gignouxwolfsohn_uml_edu/Reference_genomes/symbionts/indexed/GCA_003297005.1_index\n",
    "## Symbionts\n",
    "DATABASE\tSymbiont5\t/project/pi_sarah_gignouxwolfsohn_uml_edu/Reference_genomes/symbionts/indexed/GCA_009767595.1_index\n",
    "## Symbionts\n",
    "DATABASE\tSymbiont6\t/project/pi_sarah_gignouxwolfsohn_uml_edu/Reference_genomes/symbionts/indexed/GCA_018327485.1_index\n",
    "## Symbionts\n",
    "DATABASE\tSymbiont7\t/project/pi_sarah_gignouxwolfsohn_uml_edu/Reference_genomes/symbionts/indexed/GCA_905221635.1_index\n",
    "## Symbionts\n",
    "DATABASE\tSymbiont8\t/project/pi_sarah_gignouxwolfsohn_uml_edu/Reference_genomes/symbionts/indexed/GCA_947184155.2_index\n",
    "## Symbionts\n",
    "DATABASE\tSymbiont9\t/project/pi_sarah_gignouxwolfsohn_uml_edu/Reference_genomes/symbionts/indexed/GCA_003297045.1_index\n",
    "## Symbionts\n",
    "DATABASE\tSymbiont10\t/project/pi_sarah_gignouxwolfsohn_uml_edu/Reference_genomes/symbionts/indexed/GCA_905231905.1_index\n",
    "## Symbionts\n",
    "DATABASE\tSymbiont11\t/project/pi_sarah_gignouxwolfsohn_uml_edu/Reference_genomes/symbionts/indexed/GCA_905231915.1_index\n",
    "##\n",
    "## Ecoli- sequence available from EMBL accession U00096.2\n",
    "#DATABASE\tEcoli\t/data/public/Genomes/Ecoli/Ecoli\n",
    "##\n",
    "## PhiX - sequence available from Refseq accession NC_001422.1\n",
    "#DATABASE\tPhiX\t/data/public/Genomes/PhiX/phi_plus_SNPs\n",
    "##\n",
    "## Adapters - sequence derived from the FastQC contaminats file found at: www.bioinformatics.babraham.ac.uk/projects/fastqc\n",
    "#DATABASE\tAdapters\t/data/public/Genomes/Contaminants/Contaminants\n",
    "##\n",
    "## Vector - Sequence taken from the UniVec database\n",
    "## http://www.ncbi.nlm.nih.gov/VecScreen/UniVec.html\n",
    "#DATABASE\tVectors\t\t/data/public/Genomes/Vectors/Vectors"
   ]
  },
  {
   "cell_type": "markdown",
   "id": "4897fbe6-47b5-4727-8c0e-9f1811678c3f",
   "metadata": {},
   "source": [
    "Moved the conf file to the fastq screen directory in the assembly environment"
   ]
  },
  {
   "cell_type": "code",
   "execution_count": null,
   "id": "a6e2b7c5-bc76-4217-b820-12b87dffac8e",
   "metadata": {},
   "outputs": [],
   "source": [
    "mv fastq_screen.conf /home/nikea_ulrich_uml_edu/.conda/envs/assembly/share/fastq-screen-0.16.0-0"
   ]
  },
  {
   "cell_type": "code",
   "execution_count": null,
   "id": "befc7c1d-3a7b-42cf-8515-76dd4115a262",
   "metadata": {},
   "outputs": [],
   "source": [
    "#!/bin/bash\n",
    "#SBATCH -c 24  # Number of Cores per Task\n",
    "#SBATCH --mem=180G  # Requested Memory\n",
    "#SBATCH -p cpu  # Partition\n",
    "#SBATCH -t 24:00:00  # Job time limit\n",
    "#SBATCH --mail-type=ALL\n",
    "#SBATCH -o /work/pi_sarah_gignouxwolfsohn_uml_edu/nikea/COL/assembly/mcav/slurm-HSremoval-%j.out  # %j = job ID\n",
    "\n",
    "module load conda/latest\n",
    "conda activate assembly\n",
    "\n",
    "# 2)remove symbiont and human seqs using fastq screen \n",
    "SAMPLENAME=\"mcav\"\n",
    "SAMPLELIST=\"032024_mcav_sampleids.txt\" \n",
    "READSPATH=\"/work/pi_sarah_gignouxwolfsohn_uml_edu/nikea/COL/assembly/${SAMPLENAME}/host_removed\"\n",
    "LISTPATH=\"/work/pi_sarah_gignouxwolfsohn_uml_edu/nikea/COL/\"\n",
    "\n",
    "FASTQSCREEN='/home/nikea_ulrich_uml_edu/.conda/envs/assembly/share/fastq-screen-0.16.0-0'\n",
    "OUTPUTDIR=\"/work/pi_sarah_gignouxwolfsohn_uml_edu/nikea/COL/assembly/${SAMPLENAME}/final_reads_filtered\"\n",
    "\n",
    "mkdir -p \"$OUTPUTDIR\"\n",
    "if [ $? -ne 0 ]; then\n",
    "    echo \"Error: Failed to create output directory $OUTPUTDIR\"\n",
    "    exit 1\n",
    "fi\n",
    "\n",
    "while IFS= read -r SAMPLEID; do\n",
    "$FASTQSCREEN/fastq_screen --nohits --aligner bowtie2 --conf $FASTQSCREEN/fastq_screen.conf --outdir $OUTPUTDIR \\\n",
    "$READSPATH/\"${SAMPLEID}\"_host_removed_R1.fastq.gz $READSPATH/\"${SAMPLEID}\"_host_removed_R2.fastq.gz;\n",
    " if [ $? -eq 0 ]; then\n",
    "        echo \"fastq_screen completed successfully for sample: $SAMPLEID\"\n",
    "    else\n",
    "        echo \"fastq_screen encountered an error for sample: $SAMPLEID\"\n",
    "        exit 1\n",
    "    fi\n",
    "# --nohits = output reads do not map to any genomes\n",
    "done < \"$LISTPATH/${SAMPLELIST}\"\n",
    "conda deactivate\n",
    "echo \"Symbiont, host removal: All samples processed successfully.\"\n",
    "\n",
    "# JOB-ID:\n",
    "# bash script file name: nikea/COL/bash_scripts/Col_human_symiont_removal.sh"
   ]
  },
  {
   "cell_type": "markdown",
   "id": "af1cec8f-24e9-432c-ad89-8034439258e8",
   "metadata": {},
   "source": [
    "*note*- to find path for bowtie2 aligner for fastq_screen.conf, I loaded the assembly conda environment and did the command: bowtie2 --version \\\n",
    "This gives you the path to put in the conf file."
   ]
  },
  {
   "cell_type": "markdown",
   "id": "d491e391-e9e1-4fda-a2d3-fb8ab7a69064",
   "metadata": {},
   "source": [
    "Started with pstr (Job ID: 26697214). Switched out sample name/sample list to run the others \\\n",
    "dlab (Job ID: 26699799) \\\n",
    "ofav (Job ID: 26710868) \\\n",
    "mcav (Job ID: 26710863) \n"
   ]
  },
  {
   "cell_type": "markdown",
   "id": "6bc6c986-3903-4ba2-93bd-074bb370deac",
   "metadata": {},
   "source": [
    "Ran multiqc in each directory to combine fastq-screen results for visualization"
   ]
  },
  {
   "cell_type": "code",
   "execution_count": null,
   "id": "3bc1f8e3-6012-43c1-9ebd-59dff32b3a38",
   "metadata": {},
   "outputs": [],
   "source": [
    "module load conda/latest\n",
    "conda activate multiqc \n",
    "# in directory with fastq-screen output: /final_reads_filtered\n",
    "multiqc .\n",
    "conda deactivate"
   ]
  },
  {
   "cell_type": "markdown",
   "id": "d837fde5-8e80-4952-a35b-de6147d71d0c",
   "metadata": {},
   "source": [
    "**PSTR**: mostly hits to **symbiont 2** (GCA_000507305.1 - *Breviolum minutum*) \\\n",
    "S38 (2, 49.8%), S39 (2, 45.5%), S9 (2, 3.4%), and S10 (2, 11.3%) \\\n",
    "S11 (11, 0.5%) **symbiont 11 (GCA_905231915.1 - *Symbiodinium necroappetens*)**\n",
    "\n",
    "**DLAB**: mostly symb 2 but a bit more of mix. listing samples with symb # and then % hit \\\n",
    "S12: (2, 27.2%) (11, 1.6%) \\\n",
    "S13: (2, 16.6%) (11, 1.3%) (3, 0.1%) **symbiont 3 (GCA_001939145.1 - *Symb microadriaticum*)** \\\n",
    "S14: (2, 34.7%) (11, 0.1%) \\\n",
    "S15: (2, 9.1%) (8, 0.1%) **symbiont 8 (GCA_947184155.2 - *Cladocopium goreaui*)** \\\n",
    "S16: (2, 19.1%) (8, 0.1%) \\\n",
    "S40: (8, 1.5%) (2, 0.5%) \\\n",
    "S41: (2, 14.1%) \\\n",
    "S42: (2, 4.4%) \\\n",
    "\n",
    "**OFAV**: mostly hits to **symbiont 1 (*Durusdinium_trenchii*)** \\\n",
    "S17: (1, 2.2%) \\\n",
    "S18: (1, 1.6%) (11, 0.4%) \\\n",
    "S19: (1, 8%) (4, 0.1%) lost of human (10.3%) **symbiont 4 (GCA_003297005.1 - *Symb sp. clade A Y106*)** \\\n",
    "S20: (1, 2.4%) (11, 2%) (3&6, 0.1%) **symbiont 6 (GCA_018327485.1 - *Symbiodinium microadriaticum AJIS2-C2*)** \\\n",
    "S21: (1, 1.6%) (11, 0.8%) \\\n",
    "\n",
    "**MCAV**: mostly hits to symbiont 8 *Cladocopium goreaui* \\\n",
    "S1: (8, 34.8%) (1, 2.5%) (9, 0.2%) (5, 0.1%) **symbiont 9 (GCA_003297045.1 - *Symb sp. clade C Y103*); symbiont 5 (GCA_009767595.1 - *Symb kawagutii*)** \\\n",
    "S2: (8, 15.9%) (11, 0.7%) (2, 1.5%) (3&9&1, 0.1%) \\\n",
    "S37: (8, 38%) (9, 0.2%) (5, 0.1%) \\\n",
    "S3: (8, 30.4%) (9, 0.2%) \\\n",
    "S4: (8, 13.7%) (9, 0.1%) \\\n",
    "S5: (8, 30.5%) (11, 0.8%) (9, 0.2%) (3, 0.1%) \\\n",
    "S6: (8, 12.9%) (11, 2.1%) (2&3&6&9, 0.1%) \\\n",
    "S7: (8, 17.7%) (11, 0.2%) (9, 0.1%) \\\n",
    "S8: (8, 32.3%) (9, 0.2%)"
   ]
  },
  {
   "cell_type": "markdown",
   "id": "56bcdc95-c23e-4919-b555-146b109abbad",
   "metadata": {},
   "source": [
    "## Concatenating reads and assembling into contigs (steps 3 & 4)"
   ]
  },
  {
   "cell_type": "markdown",
   "id": "4fcd83d1-997e-4063-9a26-e6884d52ad8a",
   "metadata": {},
   "source": [
    "https://github.com/voutcn/megahit/wiki/An-example-of-real-assembly"
   ]
  },
  {
   "cell_type": "markdown",
   "id": "dbbd7df7-69e8-4ad1-8747-199e38db3c99",
   "metadata": {},
   "source": [
    "For pstr: did the concat and assembly separate because was troubleshooting script.\n",
    "error with megahit: Error occurs when reading inputs. I'm thinking that when the reads are pushed through fastq-screen, they get re-ordered. This is what fastq-screen documentation says: \\\n",
    "    Filtering paired-end reads files separately will generate files with un-paired reads e.g. a read may be present in \n",
    "    File1, but its corresponding pair may not be found in File2. Also, the order of the reads in processed files may \n",
    "    not correspond to on another. Consequently, the resulting file pairs will need processing after filtering with \n",
    "    FastQ Screen. \n",
    "\n",
    "https://jgi.doe.gov/data-and-tools/software-tools/bbtools/bb-tools-user-guide/repair-guide/ going to give this a try\n"
   ]
  },
  {
   "cell_type": "code",
   "execution_count": null,
   "id": "51ade91d-2696-4ac5-ba73-737ade778c35",
   "metadata": {},
   "outputs": [],
   "source": [
    "#INSTALLATION\n",
    "module load conda/latest\n",
    "conda activate assembly\n",
    "conda install -c bioconda bbmap"
   ]
  },
  {
   "cell_type": "markdown",
   "id": "89ef5731-2b6a-4474-b3fb-3482a9e3ec9a",
   "metadata": {},
   "source": [
    "Run this repair script before concatenating files"
   ]
  },
  {
   "cell_type": "code",
   "execution_count": null,
   "id": "129f568b-ee4f-447e-a6d3-f6835fe8137d",
   "metadata": {},
   "outputs": [],
   "source": [
    "#!/bin/bash\n",
    "#SBATCH -c 24  # Number of Cores per Task\n",
    "#SBATCH --mem=180G  # Requested Memory\n",
    "#SBATCH -p cpu  # Partition\n",
    "#SBATCH -t 24:00:00  # Job time limit\n",
    "#SBATCH --mail-type=ALL\n",
    "#SBATCH -o /work/pi_sarah_gignouxwolfsohn_uml_edu/nikea/COL/assembly/pstr/slurm-repair-%j.out  # %j = job ID\n",
    "\n",
    "module load conda/latest\n",
    "conda activate assembly\n",
    "\n",
    "\n",
    "SAMPLENAME=\"pstr\"\n",
    "SAMPLELIST=\"032024_pstr_sampleids.txt\" \n",
    "READSPATH=\"/work/pi_sarah_gignouxwolfsohn_uml_edu/nikea/COL/assembly/${SAMPLENAME}/final_reads_filtered\"\n",
    "LISTPATH=\"/work/pi_sarah_gignouxwolfsohn_uml_edu/nikea/COL/\"\n",
    "OUTDIR=\"/work/pi_sarah_gignouxwolfsohn_uml_edu/nikea/COL/assembly/${SAMPLENAME}/repaired\"\n",
    "mkdir -p \"$OUTDIR\"\n",
    "\n",
    "#Lets try this! Using repair.sh script from:https://jgi.doe.gov/data-and-tools/software-tools/bbtools/bb-tools-user-guide/repair-guide/\n",
    "while IFS= read -r SAMPLEID; do\n",
    "\n",
    "repair.sh in1=$READSPATH/\"${SAMPLEID}\"_host_removed_R1.tagged_filter.fastq.gz in2=$READSPATH/\"${SAMPLEID}\"_host_removed_R2.tagged_filter.fastq.gz \\\n",
    "out1=$OUTDIR/\"${SAMPLEID}\"_host_removed_R1.tagged_filter_ready.fastq.gz out2=$OUTDIR/\"${SAMPLEID}\"_host_removed_R2.tagged_filter_ready.fastq.gz \\\n",
    "outs=$OUTDIR/\"${SAMPLEID}\"singletons.fq repair;\n",
    " if [ $? -eq 0 ]; then\n",
    "        echo \"repair completed successfully for sample: $SAMPLEID\"\n",
    "    else\n",
    "        echo \"repair encountered an error for sample: $SAMPLEID\"\n",
    "        exit 1\n",
    "    fi\n",
    "done < \"$LISTPATH/${SAMPLELIST}\"\n",
    "\n",
    "conda deactivate\n",
    "echo \"Repair: All samples processed successfully.\"\n",
    "\n",
    "# JOB-ID: 26714856\n",
    "# bash script file name: nikea/COL/bash_scripts/bbtools_repair.sh"
   ]
  },
  {
   "cell_type": "markdown",
   "id": "b663048e-a291-4c1e-ad04-be07f0fbb4d1",
   "metadata": {},
   "source": [
    "Changed sample name and list, ran for the others \\\n",
    "ofav (Job ID: 26721412) \\\n",
    "dlab (Job ID: 26721643) \\\n",
    "mcav (Job ID: 26721757) "
   ]
  },
  {
   "cell_type": "markdown",
   "id": "3f0005a3-72e4-4433-9f0d-11725f12864d",
   "metadata": {},
   "source": [
    "Was having issues doing step 3 and 4 together so running the steps in separate scripts below."
   ]
  },
  {
   "cell_type": "code",
   "execution_count": null,
   "id": "5a91801c-2c91-4bac-9b15-136773a49500",
   "metadata": {},
   "outputs": [],
   "source": [
    "#!/bin/bash\n",
    "#SBATCH -c 24  # Number of Cores per Task\n",
    "#SBATCH --mem=180G  # Requested Memory\n",
    "#SBATCH -p cpu  # Partition\n",
    "#SBATCH -t 24:00:00  # Job time limit\n",
    "#SBATCH --mail-type=ALL\n",
    "#SBATCH -o /work/pi_sarah_gignouxwolfsohn_uml_edu/nikea/COL/assembly/pstr/slurm-cat-%j.out  # %j = job ID\n",
    "\n",
    "module load conda/latest\n",
    "conda activate assembly\n",
    "\n",
    "SAMPLENAME=\"pstr\"\n",
    "SAMPLELIST=\"032024_pstr_sampleids.txt\" \n",
    "READSPATH=\"/work/pi_sarah_gignouxwolfsohn_uml_edu/nikea/COL/assembly/${SAMPLENAME}/repaired\"\n",
    "LISTPATH=\"/work/pi_sarah_gignouxwolfsohn_uml_edu/nikea/COL/\"\n",
    "WORKDIR=\"/work/pi_sarah_gignouxwolfsohn_uml_edu/nikea/COL/assembly/${SAMPLENAME}\"\n",
    "\n",
    "# 3)CONCATETATE all f and r seqs into single file (1 for f, 1 for r)\n",
    "# Read the sample IDs from the file\n",
    "while IFS= read -r SAMPLEID; do\n",
    "    # Construct the file paths for forward and reverse reads\n",
    "    FORWARD_READ=\"$READSPATH/${SAMPLEID}_host_removed_R1.tagged_filter_ready.fastq.gz\"\n",
    "    REVERSE_READ=\"$READSPATH/${SAMPLEID}_host_removed_R2.tagged_filter_ready.fastq.gz\"\n",
    "\n",
    "    # Check if the files exist before concatenating\n",
    "    if [ -e \"$FORWARD_READ\" ]; then\n",
    "        cat \"$FORWARD_READ\" >> \"$WORKDIR/${SAMPLENAME}_reads_R1_ALL.fastq.gz\"\n",
    "    else\n",
    "        echo \"Forward read file not found for sample $SAMPLEID\"\n",
    "    fi\n",
    "\n",
    "    if [ -e \"$REVERSE_READ\" ]; then\n",
    "        cat \"$REVERSE_READ\" >> \"$WORKDIR/${SAMPLENAME}_reads_R2_ALL.fastq.gz\"\n",
    "    else\n",
    "        echo \"Reverse read file not found for sample $SAMPLEID\"\n",
    "    fi\n",
    "done < \"$LISTPATH/${SAMPLELIST}\"\n",
    "\n",
    "conda deactivate\n",
    "echo \"Concatenation completed!\"\n",
    "\n",
    "# JOB-ID: 26716994\n",
    "# bash script file name: nikea/COL/bash_scripts/Col_concat.sh"
   ]
  },
  {
   "cell_type": "markdown",
   "id": "80b5d129-6e66-49e9-be38-08ad73d088a3",
   "metadata": {},
   "source": [
    "Changed sample name and list for the others \\\n",
    "ofav (Job ID: 26730267) \\\n",
    "dlab (Job ID: 26730288) \\\n",
    "mcav (Job ID: 26730369) "
   ]
  },
  {
   "cell_type": "code",
   "execution_count": null,
   "id": "2a7fce16-bd8e-4386-9848-3820aa4026cd",
   "metadata": {},
   "outputs": [],
   "source": [
    "#!/bin/bash\n",
    "#SBATCH -c 24  # Number of Cores per Task\n",
    "#SBATCH --mem=180G  # Requested Memory\n",
    "#SBATCH -p cpu  # Partition\n",
    "#SBATCH -t 48:00:00  # Job time limit\n",
    "#SBATCH --mail-type=ALL\n",
    "#SBATCH -o /work/pi_sarah_gignouxwolfsohn_uml_edu/nikea/COL/assembly/pstr/slurm-assembly-%j.out  # %j = job ID\n",
    "\n",
    "module load conda/latest\n",
    "conda activate assembly\n",
    "\n",
    "SAMPLENAME=\"pstr\"\n",
    "SAMPLELIST=\"032024_pstr_sampleids.txt\" \n",
    "LISTPATH=\"/work/pi_sarah_gignouxwolfsohn_uml_edu/nikea/COL/\"\n",
    "WORKDIR=\"/work/pi_sarah_gignouxwolfsohn_uml_edu/nikea/COL/assembly/${SAMPLENAME}\"\n",
    "\n",
    "# 4)ASSEMBLE reads into contigs (contiguous sequence - joins them together based on read overlap, and ensures there are no gaps\n",
    "megahit --presets meta-large \\\n",
    "-1 \"$WORKDIR\"/\"$SAMPLENAME\"_reads_R1_ALL.fastq.gz \\\n",
    "-2 \"$WORKDIR\"/\"$SAMPLENAME\"_reads_R2_ALL.fastq.gz \\\n",
    "--keep-tmp-files \\\n",
    "-o $WORKDIR/megahit_assembly --out-prefix $SAMPLENAME \\\n",
    "\n",
    "#this one has to make the directory; will fail if it already exists\n",
    "\n",
    "conda deactivate\n",
    "echo \"Assembly completed!\"\n",
    "\n",
    "# JOB-ID: 26716997\n",
    "# bash script file name: nikea/COL/bash_scripts/Col_assemble.sh"
   ]
  },
  {
   "cell_type": "markdown",
   "id": "fd220c81-2e4a-4cfe-85ff-1c771203771e",
   "metadata": {},
   "source": [
    "Changed sample name and list for the others and ran \\\n",
    "ofav (Job ID: 26730667) \\\n",
    "dlab (Job ID: 26776618) \\\n",
    "mcav (Job ID: 26776586)"
   ]
  },
  {
   "cell_type": "markdown",
   "id": "36c09e05-87f6-4ba4-bdf2-d41a24f66bb8",
   "metadata": {},
   "source": [
    "## Quality check"
   ]
  },
  {
   "cell_type": "markdown",
   "id": "14128d6e-f76c-4a92-8327-efcb975602c1",
   "metadata": {},
   "source": [
    "Metaquast: https://github.com/ablab/quast"
   ]
  },
  {
   "cell_type": "code",
   "execution_count": null,
   "id": "54ae733c-fd20-4c1b-8ee1-320b7ef7e2a1",
   "metadata": {},
   "outputs": [],
   "source": [
    "#!/bin/bash\n",
    "#SBATCH -c 24  # Number of Cores per Task\n",
    "#SBATCH --mem=50G  # Requested Memory\n",
    "#SBATCH -p cpu  # Partition\n",
    "#SBATCH -t 24:00:00  # Job time limit\n",
    "#SBATCH --mail-type=ALL\n",
    "#SBATCH -o /work/pi_sarah_gignouxwolfsohn_uml_edu/nikea/COL/assembly/pstr/slurm-metaquast-%j.out  # %j = job ID\n",
    "\n",
    "module load conda/latest\n",
    "conda activate assembly\n",
    "\n",
    "SAMPLENAME=\"pstr\"\n",
    "WORKDIR=\"/work/pi_sarah_gignouxwolfsohn_uml_edu/nikea/COL/assembly/${SAMPLENAME}/megahit_assembly\"\n",
    "OUTDIR=\"/work/pi_sarah_gignouxwolfsohn_uml_edu/nikea/COL/assembly/${SAMPLENAME}\"\n",
    "\n",
    "metaquast \"$WORKDIR\"/\"$SAMPLENAME\".contigs.fa -t 12 -o $OUTDIR/quast_output\n",
    "\n",
    "# Job ID: 26778132\n",
    "# bash script file name: nikea/COL/bash_scripts/Col_quast.sh"
   ]
  },
  {
   "cell_type": "code",
   "execution_count": null,
   "id": "cb77055c-5996-4bad-8abe-3a8cf9669ef0",
   "metadata": {},
   "outputs": [],
   "source": [
    "# Removing files that aren't needed\n",
    "rm -r krona_charts quast_downloaded_references runs_per_reference icarus_viewers summary/TEX summary/TSV combined_reference/icarus_viewers combined_reference/aligned_stats\n",
    "rm combined_reference/*.tex combined_reference/*.tsv\n",
    "rm not_aligned/*.tex not_aligned/*.tsv\n"
   ]
  },
  {
   "cell_type": "markdown",
   "id": "b3dd7ce8-3515-4227-b456-a768132de67c",
   "metadata": {},
   "source": [
    "download /not_aligned/report.html/pdf for basic stats and moved /host_removed and /final_reads_filtered to project folder. \n",
    "\n",
    "Just keeping the /repaired reads for mapping step."
   ]
  },
  {
   "cell_type": "markdown",
   "id": "e566aff1-3cd7-4e8e-b01e-718b2dd78b2c",
   "metadata": {},
   "source": [
    "**PSTR**\n",
    "\n",
    "Assembly                    pstr.contigs\n",
    "contigs (>= 1000 bp)      151450      \n",
    "contigs (>= 5000 bp)      4137        \n",
    "contigs (>= 10000 bp)     368         \n",
    "contigs (>= 25000 bp)     5           \n",
    "contigs (>= 50000 bp)     0           \n",
    "Total length (>= 1000 bp)   289013583   \n",
    "Total length (>= 5000 bp)   29046967    \n",
    "Total length (>= 10000 bp)  4674529     \n",
    "Total length (>= 25000 bp)  163721      \n",
    "Total length (>= 50000 bp)  0           \n",
    "contigs                   415896      \n",
    "Largest contig              41230       \n",
    "Total length                469783794   \n",
    "GC (%)                      39.77       \n",
    "N50                         1269        \n",
    "N90                         589         \n",
    "auN                         1928.4      \n",
    "L50                         103224      \n",
    "L90                         329131      \n",
    "N's per 100 kbp           0.00 "
   ]
  },
  {
   "cell_type": "markdown",
   "id": "0996a9e3-0d2e-41ad-bd87-bf919246d343",
   "metadata": {},
   "source": [
    "**OFAV**\n",
    "\n",
    "Assembly                    ofav.contigs\n",
    "contigs (>= 1000 bp)      60441       \n",
    "contigs (>= 5000 bp)      1173        \n",
    "contigs (>= 10000 bp)     57          \n",
    "contigs (>= 25000 bp)     1           \n",
    "contigs (>= 50000 bp)     0           \n",
    "Total length (>= 1000 bp)   110493414   \n",
    "Total length (>= 5000 bp)   7771867     \n",
    "Total length (>= 10000 bp)  737871      \n",
    "Total length (>= 25000 bp)  46500       \n",
    "Total length (>= 50000 bp)  0           \n",
    "contigs                   185626      \n",
    "Largest contig              46500       \n",
    "Total length                194761412   \n",
    "GC (%)                      39.99       \n",
    "N50                         1145        \n",
    "N90                         568         \n",
    "auN                         1684.3      \n",
    "L50                         48179       \n",
    "L90                         148992      \n",
    "N's per 100 kbp           0.00 \n"
   ]
  },
  {
   "cell_type": "markdown",
   "id": "90ba0949-f476-42b2-963b-94dd5de489e7",
   "metadata": {},
   "source": [
    "**MCAV**\n",
    "\n",
    "Assembly                    mcav.contigs\n",
    "contigs (>= 1000 bp)      71119       \n",
    "contigs (>= 5000 bp)      2879        \n",
    "contigs (>= 10000 bp)     450         \n",
    "contigs (>= 25000 bp)     44          \n",
    "contigs (>= 50000 bp)     3           \n",
    "Total length (>= 1000 bp)   143521056   \n",
    "Total length (>= 5000 bp)   23185086    \n",
    "Total length (>= 10000 bp)  7172626     \n",
    "Total length (>= 25000 bp)  1508159     \n",
    "Total length (>= 50000 bp)  176757      \n",
    "contigs                   227538      \n",
    "Largest contig              71832       \n",
    "Total length                249168900   \n",
    "GC (%)                      42.11       \n",
    "N50                         1181        \n",
    "N90                         574         \n",
    "auN                         2333.0      \n",
    "L50                         53641       \n",
    "L90                         180923      \n",
    "N's per 100 kbp           0.00 "
   ]
  },
  {
   "cell_type": "markdown",
   "id": "f9e6021b-5721-47fb-b358-6f835ccabe57",
   "metadata": {},
   "source": [
    "**DLAB**\n",
    "\n",
    "Assembly                    dlab.contigs\n",
    "contigs (>= 1000 bp)      210229      \n",
    "contigs (>= 5000 bp)      7173        \n",
    "contigs (>= 10000 bp)     718         \n",
    "contigs (>= 25000 bp)     60          \n",
    "contigs (>= 50000 bp)     22          \n",
    "Total length (>= 1000 bp)   421029419   \n",
    "Total length (>= 5000 bp)   53208252    \n",
    "Total length (>= 10000 bp)  11737500    \n",
    "Total length (>= 25000 bp)  3080762     \n",
    "Total length (>= 50000 bp)  1801137     \n",
    "contigs                   577932      \n",
    "Largest contig              230207      \n",
    "Total length                671477956   \n",
    "GC (%)                      40.23       \n",
    "N50                         1328        \n",
    "N90                         590         \n",
    "auN                         2390.8      \n",
    "L50                         135837      \n",
    "L90                         454003      \n",
    "N's per 100 kbp           0.00  "
   ]
  }
 ],
 "metadata": {
  "kernelspec": {
   "display_name": "Python 3 (ipykernel)",
   "language": "python",
   "name": "python3"
  },
  "language_info": {
   "codemirror_mode": {
    "name": "ipython",
    "version": 3
   },
   "file_extension": ".py",
   "mimetype": "text/x-python",
   "name": "python",
   "nbconvert_exporter": "python",
   "pygments_lexer": "ipython3",
   "version": "3.11.0"
  }
 },
 "nbformat": 4,
 "nbformat_minor": 5
}
