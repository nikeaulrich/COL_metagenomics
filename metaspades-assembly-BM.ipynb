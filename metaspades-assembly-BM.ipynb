{
 "cells": [
  {
   "cell_type": "markdown",
   "id": "3bb08060-ff2a-4bd2-b342-b36b71f9de7e",
   "metadata": {},
   "source": [
    "## Co-assembly with metaspades for benchmarking purposes"
   ]
  },
  {
   "cell_type": "markdown",
   "id": "140df196-07db-4aff-8235-7cfd953090cd",
   "metadata": {},
   "source": [
    "Sequences have been pushed through 1Col_assembly_032024 except for the assembly with megahit. Using **pstr** to benchmark"
   ]
  },
  {
   "cell_type": "markdown",
   "id": "f67d2431-023d-4c1a-ba1f-fab237564d2e",
   "metadata": {},
   "source": [
    "https://ablab.github.io/spades/running.html"
   ]
  },
  {
   "cell_type": "code",
   "execution_count": null,
   "id": "86535358-98e4-4bda-8f46-62f50a77e0fb",
   "metadata": {},
   "outputs": [],
   "source": [
    "#INSTALLATION\n",
    "module load conda/latest\n",
    "conda create -n spades_env\n",
    "conda activate spades_env\n",
    "conda install -c bioconda spades"
   ]
  },
  {
   "cell_type": "code",
   "execution_count": null,
   "id": "2627ffb9-5eea-42f3-86fc-17b293022fa5",
   "metadata": {},
   "outputs": [],
   "source": [
    "#!/bin/bash\n",
    "#SBATCH -c 24  # Number of Cores per Task\n",
    "#SBATCH --mem=350G  # Requested Memory\n",
    "#SBATCH -p cpu  # Partition\n",
    "#SBATCH -t 48:00:00  # Job time limit\n",
    "#SBATCH --mail-type=ALL\n",
    "#SBATCH -o /work/pi_sarah_gignouxwolfsohn_uml_edu/nikea/COL/assembly/pstr/slurm-spades-assembly-%j.out  # %j = job ID\n",
    "\n",
    "module load conda/latest\n",
    "conda activate spades_env\n",
    "\n",
    "SAMPLENAME=\"pstr\"\n",
    "WORKDIR=\"/work/pi_sarah_gignouxwolfsohn_uml_edu/nikea/COL/assembly/${SAMPLENAME}\"\n",
    "\n",
    "#ASSEMBLE reads into contigs with metaspades\n",
    "spades.py --meta -m 350 \\\n",
    "-1 \"$WORKDIR\"/\"$SAMPLENAME\"_reads_R1_ALL.fastq.gz \\\n",
    "-2 \"$WORKDIR\"/\"$SAMPLENAME\"_reads_R2_ALL.fastq.gz \\\n",
    "-o $WORKDIR/metaspades_assembly\n",
    "\n",
    "#working through error, when using the --continue you only need -o flag:\n",
    "#spades.py --continue -o $WORKDIR/metaspades_assembly\n",
    "\n",
    "#memory issues (keeps stopping at k55 step, the default memory is 250 Gb , will increase this too what I have specified in above memory allocation \n",
    "#spades.py -m 350 --restart-from k55 \\\n",
    "#-o $WORKDIR/metaspades_assembly\n",
    "\n",
    "\n",
    "conda deactivate\n",
    "echo \"Metaspades assembly completed!\"\n",
    "\n",
    "# JOB-ID: 27160933\n",
    "# bash script file name: nikea/COL/bash_scripts/Col_spades_assemble.sh"
   ]
  },
  {
   "cell_type": "markdown",
   "id": "4d4f2db5-e48e-48c0-9477-5c2d9d2eba4c",
   "metadata": {},
   "source": [
    "script failed (27042504), changed it so that I'm only working in the /work directory. \n",
    "doubled the requested memory and ran again (27119856). keeps getting stuck on the spades-core step at k55. When using the --continue flag, you can't change any parameters. Stopped at the same place because I didn't change the memory allocation in the actual spades script. Re-ran with the -restart-from flag and added -m 350 (27160933)."
   ]
  },
  {
   "cell_type": "markdown",
   "id": "93a049ae-e054-4c39-ad64-75f389425976",
   "metadata": {},
   "source": [
    "Comparing megahit and metaspades assembly, not sure whether I continue with contigs or scaffolds from metaspades, so including both in the comparison."
   ]
  },
  {
   "cell_type": "code",
   "execution_count": null,
   "id": "2336002b-62ab-4c42-9ed7-878073b3898e",
   "metadata": {},
   "outputs": [],
   "source": [
    "#!/bin/bash\n",
    "#SBATCH -c 24  # Number of Cores per Task\n",
    "#SBATCH --mem=50G  # Requested Memory\n",
    "#SBATCH -p cpu  # Partition\n",
    "#SBATCH -t 24:00:00  # Job time limit\n",
    "#SBATCH --mail-type=ALL\n",
    "#SBATCH -o /work/pi_sarah_gignouxwolfsohn_uml_edu/nikea/COL/assembly/pstr/slurm-metaquast-spades-%j.out  # %j = job ID\n",
    "\n",
    "module load conda/latest\n",
    "conda activate assembly\n",
    "\n",
    "SAMPLENAME=\"pstr\"\n",
    "WORKDIR=\"/work/pi_sarah_gignouxwolfsohn_uml_edu/nikea/COL/assembly/${SAMPLENAME}\"\n",
    "MEGAHIT=\"/work/pi_sarah_gignouxwolfsohn_uml_edu/nikea/COL/assembly/${SAMPLENAME}/megahit_assembly\"\n",
    "METASPADES=\"/work/pi_sarah_gignouxwolfsohn_uml_edu/nikea/COL/assembly/${SAMPLENAME}/metaspades_assembly\"\n",
    "\n",
    "metaquast -o $WORKDIR/quast_comparison_output \\\n",
    "-l \"megahit, metaspadescont, metaspadesscaf\" -t 12 \\\n",
    "$MEGAHIT/\"$SAMPLENAME\".contigs.fa $METASPADES/contigs.fasta $METASPADES/scaffolds.fasta\n",
    "\n",
    "\n",
    "# Job ID:27211407\n",
    "# bash script file name: nikea/COL/bash_scripts/Col_comp_quast.sh"
   ]
  },
  {
   "cell_type": "markdown",
   "id": "8bba54d5-b206-4abf-8fe4-1ccd58bc8a82",
   "metadata": {},
   "source": [
    "**Mapping on metaspades co-assembly (contigs file)**"
   ]
  },
  {
   "cell_type": "code",
   "execution_count": null,
   "id": "45ee8f8a-52de-479f-a7e8-b1578bbeacec",
   "metadata": {},
   "outputs": [],
   "source": [
    "#!/bin/bash\n",
    "#SBATCH -c 24  # Number of Cores per Task\n",
    "#SBATCH --mem=180G  # Requested Memory\n",
    "#SBATCH -p cpu  # Partition\n",
    "#SBATCH -t 24:00:00  # Job time limit\n",
    "#SBATCH --mail-type=ALL\n",
    "#SBATCH -o /work/pi_sarah_gignouxwolfsohn_uml_edu/nikea/COL/mapping/pstr/metaspades/slurm-mapping-%j.out  # %j = job ID\n",
    "\n",
    "module load conda/latest\n",
    "conda activate anvio-8\n",
    "\n",
    "SAMPLENAME=\"pstr\"\n",
    "READSPATH=\"/work/pi_sarah_gignouxwolfsohn_uml_edu/nikea/COL/assembly/${SAMPLENAME}/repaired\"\n",
    "CONTIGPATH=\"/work/pi_sarah_gignouxwolfsohn_uml_edu/nikea/COL/assembly/${SAMPLENAME}/metaspades_assembly\"\n",
    "CONTIGFILE=\"contigs.fasta\"\n",
    "WORKPATH=\"/work/pi_sarah_gignouxwolfsohn_uml_edu/nikea/COL/mapping/${SAMPLENAME}/metaspades\"\n",
    "mkdir -p \"$WORKPATH\"\n",
    "XTRAFILES=\"/project/pi_sarah_gignouxwolfsohn_uml_edu/nikea/COL_files/mapping/${SAMPLENAME}/metaspades\"\n",
    "mkdir -p \"$XTRAFILES\"\n",
    "LISTPATH=\"/work/pi_sarah_gignouxwolfsohn_uml_edu/nikea/COL/\"\n",
    "SAMPLELIST=\"032024_pstr_sampleids.txt\" \n",
    " \n",
    "anvi-script-reformat-fasta $CONTIGPATH/$CONTIGFILE -o $WORKPATH/\"${SAMPLENAME}.metascontigs-fixed.fsa\" -l 1000 --simplify-names --report-file $WORKPATH/contig-rename-report-txt\n",
    "\n",
    "#fixes deflines (filters contigs and reformats so naming is cleaner)\n",
    "#filtering seq length 1000bp...need to play around with filtering based on bp length\n",
    "#deflines = sequence definition line. comes directly before its associated sequence in a fasta file\n",
    "\n",
    "\n",
    "FIXEDCON=\"${SAMPLENAME}.metascontigs-fixed.fsa\"\n",
    "\n",
    "cd $WORKPATH\n",
    "#this builds an index of your contigs, which only needs to happen once\n",
    "bowtie2-build $FIXEDCON \"$SAMPLENAME\"_contigs\n",
    "# will not accept path before contigs file - must be in the correct dir \n",
    "\n",
    "while IFS= read -r SAMPLEID; do\n",
    "    #align reads to your contigs and collects that in a .sam file\n",
    "    bowtie2 --threads 11 -x \"$SAMPLENAME\"_contigs -1 $READSPATH/\"${SAMPLEID}\"_host_removed_R1.tagged_filter_ready.fastq.gz -2 $READSPATH/\"${SAMPLEID}\"_host_removed_R2.tagged_filter_ready.fastq.gz -S $XTRAFILES/\"${SAMPLEID}\".sam\n",
    "    #make sure to point it to the index not the FIXEDCON file (-x parameter)\n",
    "    \n",
    "    #converts your sam file to a bam file, but its neither sorted nor indexed, so we use an Anvi'O script to do so:\n",
    "    samtools view -F 4 -b -S $XTRAFILES/\"${SAMPLEID}\".sam -o $WORKPATH/\"${SAMPLEID}\"-RAW.bam\n",
    "   \n",
    "    #index and sort your bam file\n",
    "    anvi-init-bam $WORKPATH/\"${SAMPLEID}\"-RAW.bam -o $WORKPATH/\"${SAMPLEID}\".bam\n",
    "    \n",
    "    rm $WORKPATH/\"${SAMPLEID}\"-RAW.bam\n",
    "done < \"$LISTPATH/${SAMPLELIST}\"\n",
    "echo \"Mapping success!\"\n",
    "\n",
    "#JOB ID: 27211616\n",
    "#bash script: nikea/COL/bash_scripts/Col_metaspades_mapping.sh"
   ]
  },
  {
   "cell_type": "markdown",
   "id": "e7e89637-e112-474f-9b62-f824ad1ff082",
   "metadata": {},
   "source": [
    "much lower mapping compared to megahit assembly\n",
    "pstr: 36-40.6% alignment rate (compared to 70-80% mapped on megahit co-assembly)\n",
    "going to run metabat2 just for shits and giggles but I think megahit is the way to go"
   ]
  },
  {
   "cell_type": "markdown",
   "id": "418ac0b7-4bf9-4d0c-8151-49954ebfde09",
   "metadata": {},
   "source": [
    "**Binning**"
   ]
  },
  {
   "cell_type": "code",
   "execution_count": null,
   "id": "5bd05110-3946-4b10-90b6-3d55916f1c0c",
   "metadata": {},
   "outputs": [],
   "source": [
    "#!/bin/bash\n",
    "#SBATCH -c 24  # Number of Cores per Task\n",
    "#SBATCH --mem=50G  # Requested Memory\n",
    "#SBATCH -p cpu  # Partition\n",
    "#SBATCH -t 24:00:00  # Job time limit\n",
    "#SBATCH --mail-type=ALL\n",
    "#SBATCH -o /work/pi_sarah_gignouxwolfsohn_uml_edu/nikea/COL/binning/pstr/metaspades/slurm-metabat2binning-%j.out  # %j = job ID  # %j = job ID\n",
    "\n",
    "module load conda/latest\n",
    "conda activate binning\n",
    "\n",
    "#set parameters for binning:\n",
    "SAMPLENAME=\"pstr\"\n",
    "BINDIR=\"/work/pi_sarah_gignouxwolfsohn_uml_edu/nikea/COL/binning/${SAMPLENAME}/metaspades/MetaBAT2_bins\"\n",
    "mkdir -p $BINDIR\n",
    "CONTIGPATH=\"/work/pi_sarah_gignouxwolfsohn_uml_edu/nikea/COL/mapping/${SAMPLENAME}/metaspades\"\n",
    "CONTIGFILE=\"${SAMPLENAME}.metascontigs-fixed.fsa\"\n",
    "\n",
    "#create depth file for MetaBat2\n",
    "jgi_summarize_bam_contig_depths --outputDepth $BINDIR/MetaBAT2_depth.txt $CONTIGPATH/*.bam\n",
    "\n",
    "#MetaBat2 script with verbose output, minimum length (m)(has to be >=1500) and no min bin size \n",
    "metabat2 -i $CONTIGPATH/$CONTIGFILE -a $BINDIR/MetaBAT2_depth.txt \\\n",
    "-o $BINDIR/metabat2 -m 1500\n",
    "\n",
    "# MetaBAT2 (v2:2.17)\n",
    "# default parameters:\n",
    "#-m [ --minContig ] arg (=2500)    Minimum size of a contig for binning (should be >=1500).\n",
    "#  --maxP arg (=95)                  Percentage of 'good' contigs considered for binning decided by connection\n",
    "#                                    among contigs. The greater, the more sensitive.\n",
    "#  --minS arg (=60)                  Minimum score of a edge for binning (should be between 1 and 99). The \n",
    "#                                    greater, the more specific.\n",
    "#  --maxEdges arg (=200)             Maximum number of edges per node. The greater, the more sensitive.\n",
    "#  --pTNF arg (=0)                   TNF probability cutoff for building TNF graph. Use it to skip the \n",
    "#                                    preparation step. (0: auto).\n",
    "#  -x [ --minCV ] arg (=1)           Minimum mean coverage of a contig in each library for binning.\n",
    "#  --minCVSum arg (=1)               Minimum total effective mean coverage of a contig (sum of depth over \n",
    "#                                    minCV) for binning.\n",
    "#  -s [ --minClsSize ] arg (=200000) Minimum size of a bin as the output.\n",
    "#  -t [ --numThreads ] arg (=0)      Number of threads to use (0: use all cores).\n",
    "\n",
    "#this runs CheckM immediately after and puts the results alongside your bins\n",
    "checkm lineage_wf -x fa -t 3 $BINDIR/ $BINDIR/CheckM-bins-stats\n",
    "\n",
    "# JOB-ID:27212034\n",
    "# bash script file name: /nikea/COL/bash_scripts/Col_metaspades_metabat2_binning.sh"
   ]
  },
  {
   "cell_type": "markdown",
   "id": "7b3a9679-c2c9-41b5-8e76-cf8174c53b74",
   "metadata": {},
   "source": [
    "fewer bins with lower checkm completeness scores. Better to stick with megahit!"
   ]
  },
  {
   "cell_type": "code",
   "execution_count": null,
   "id": "ff4cec85-8e15-40a0-99b4-18abef487272",
   "metadata": {},
   "outputs": [],
   "source": [
    "----------------------------------------------------------------------------------------------------------------------------------------------------------------\n",
    "  Bin Id           Marker lineage      # genomes   # markers   # marker sets    0    1    2   3   4   5+   Completeness   Contamination   Strain heterogeneity  \n",
    "----------------------------------------------------------------------------------------------------------------------------------------------------------------\n",
    "  metabat2.2    k__Bacteria (UID203)      5449        104            58         92   12   0   0   0   0        3.45            0.00               0.00          \n",
    "  metabat2.5     k__Archaea (UID2)        207         149           107        147   2    0   0   0   0        1.40            0.00               0.00          \n",
    "  metabat2.11    k__Archaea (UID2)        207         148           106        146   2    0   0   0   0        1.26            0.00               0.00          \n",
    "  metabat2.9        root (UID1)           5656         56            24         56   0    0   0   0   0        0.00            0.00               0.00          \n",
    "  metabat2.8        root (UID1)           5656         56            24         56   0    0   0   0   0        0.00            0.00               0.00          \n",
    "  metabat2.7        root (UID1)           5656         56            24         56   0    0   0   0   0        0.00            0.00               0.00          \n",
    "  metabat2.6        root (UID1)           5656         56            24         56   0    0   0   0   0        0.00            0.00               0.00          \n",
    "  metabat2.4        root (UID1)           5656         56            24         56   0    0   0   0   0        0.00            0.00               0.00          \n",
    "  metabat2.3        root (UID1)           5656         56            24         56   0    0   0   0   0        0.00            0.00               0.00          \n",
    "  metabat2.10       root (UID1)           5656         56            24         56   0    0   0   0   0        0.00            0.00               0.00          \n",
    "  metabat2.1        root (UID1)           5656         56            24         56   0    0   0   0   0        0.00            0.00               0.00          \n",
    "----------------------------------------------------------------------------------------------------------------------------------------------------------------"
   ]
  },
  {
   "cell_type": "markdown",
   "id": "1fa27249-6e9b-4920-bfac-4b2068eff48f",
   "metadata": {},
   "source": [
    "deleted most files but moved /metaspades_assembly to /project/pi_sarah_gignouxwolfsohn_uml_edu/nikea/COL_files/assembly to keep a bit longer just in case"
   ]
  }
 ],
 "metadata": {
  "kernelspec": {
   "display_name": "Python 3 (ipykernel)",
   "language": "python",
   "name": "python3"
  },
  "language_info": {
   "codemirror_mode": {
    "name": "ipython",
    "version": 3
   },
   "file_extension": ".py",
   "mimetype": "text/x-python",
   "name": "python",
   "nbconvert_exporter": "python",
   "pygments_lexer": "ipython3",
   "version": "3.11.0"
  }
 },
 "nbformat": 4,
 "nbformat_minor": 5
}
