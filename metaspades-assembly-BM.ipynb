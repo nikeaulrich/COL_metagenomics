{
 "cells": [
  {
   "cell_type": "markdown",
   "id": "3bb08060-ff2a-4bd2-b342-b36b71f9de7e",
   "metadata": {},
   "source": [
    "## Co-assembly with metaspades for benchmarking purposes"
   ]
  },
  {
   "cell_type": "markdown",
   "id": "140df196-07db-4aff-8235-7cfd953090cd",
   "metadata": {},
   "source": [
    "Sequences have been pushed through 1Col_assembly_032024 except for the assembly with megahit. Using pstr to benchmark"
   ]
  },
  {
   "cell_type": "markdown",
   "id": "f67d2431-023d-4c1a-ba1f-fab237564d2e",
   "metadata": {},
   "source": [
    "https://ablab.github.io/spades/running.html"
   ]
  },
  {
   "cell_type": "code",
   "execution_count": null,
   "id": "86535358-98e4-4bda-8f46-62f50a77e0fb",
   "metadata": {},
   "outputs": [],
   "source": [
    "#INSTALLATION\n",
    "module load conda/latest\n",
    "conda create -n spades_env\n",
    "conda activate spades_env\n",
    "conda install -c bioconda spades"
   ]
  },
  {
   "cell_type": "code",
   "execution_count": null,
   "id": "2627ffb9-5eea-42f3-86fc-17b293022fa5",
   "metadata": {},
   "outputs": [],
   "source": [
    "#!/bin/bash\n",
    "#SBATCH -c 24  # Number of Cores per Task\n",
    "#SBATCH --mem=180G  # Requested Memory\n",
    "#SBATCH -p cpu  # Partition\n",
    "#SBATCH -t 48:00:00  # Job time limit\n",
    "#SBATCH --mail-type=ALL\n",
    "#SBATCH -o /work/pi_sarah_gignouxwolfsohn_uml_edu/nikea/COL/assembly/pstr/slurm-spades-assembly-%j.out  # %j = job ID\n",
    "\n",
    "module load conda/latest\n",
    "conda activate spades_env\n",
    "\n",
    "SAMPLENAME=\"pstr\"\n",
    "WORKDIR=\"/work/pi_sarah_gignouxwolfsohn_uml_edu/nikea/COL/assembly/${SAMPLENAME}\"\n",
    "\n",
    "#ASSEMBLE reads into contigs with metaspades\n",
    "spades.py --meta \\\n",
    "-1 \"$WORKDIR\"/\"$SAMPLENAME\"_reads_R1_ALL.fastq.gz \\\n",
    "-2 \"$WORKDIR\"/\"$SAMPLENAME\"_reads_R2_ALL.fastq.gz \\\n",
    "-o $WORKDIR/metaspades_assembly \n",
    "\n",
    "conda deactivate\n",
    "echo \"Metaspades assembly completed!\"\n",
    "\n",
    "# JOB-ID: 27072505\n",
    "# bash script file name: nikea/COL/bash_scripts/Col_spades_assemble.sh"
   ]
  },
  {
   "cell_type": "markdown",
   "id": "4d4f2db5-e48e-48c0-9477-5c2d9d2eba4c",
   "metadata": {},
   "source": [
    "script failed (27042504), changed it so that I'm only working in the /work directory. When it completes (fingers crossed) delete the other directory in /projects"
   ]
  },
  {
   "cell_type": "code",
   "execution_count": null,
   "id": "2336002b-62ab-4c42-9ed7-878073b3898e",
   "metadata": {},
   "outputs": [],
   "source": [
    "#!/bin/bash\n",
    "#SBATCH -c 24  # Number of Cores per Task\n",
    "#SBATCH --mem=50G  # Requested Memory\n",
    "#SBATCH -p cpu  # Partition\n",
    "#SBATCH -t 24:00:00  # Job time limit\n",
    "#SBATCH --mail-type=ALL\n",
    "#SBATCH -o /work/pi_sarah_gignouxwolfsohn_uml_edu/nikea/COL/assembly/pstr/slurm-metaquast-spades-%j.out  # %j = job ID\n",
    "\n",
    "module load conda/latest\n",
    "conda activate assembly\n",
    "\n",
    "SAMPLENAME=\"pstr\"\n",
    "WORKDIR=\"/work/pi_sarah_gignouxwolfsohn_uml_edu/nikea/COL/assembly/${SAMPLENAME}\"\n",
    "MEGAHIT=\"/work/pi_sarah_gignouxwolfsohn_uml_edu/nikea/COL/assembly/${SAMPLENAME}/megahit_assembly\"\n",
    "METASPADES=\"/project/pi_sarah_gignouxwolfsohn_uml_edu/nikea/COL_files/assembly/${SAMPLENAME}/metaspades_assembly\"\n",
    "\n",
    "metaquast -o $WORKDIR/quast_comparison_output \\\n",
    "-l \"megahit, metaspades\" -t 12 \\\n",
    "$MEGAHIT/\"$SAMPLENAME\".contigs.fa $METASPADES/\"\".contigs.fa\n",
    "\n",
    "\n",
    "# Job ID:\n",
    "# bash script file name: nikea/COL/bash_scripts/Col_comp_quast.sh"
   ]
  },
  {
   "cell_type": "code",
   "execution_count": null,
   "id": "0ba67404-f1bb-4ab2-8a98-57a33c48c81d",
   "metadata": {},
   "outputs": [],
   "source": [
    "#Can compare multiple assemblies with quast, example here\n",
    "quast -o quast_B_cep_out -R reference_genome/BCep_ref.fna \\\n",
    "      -G reference_genome/BCep_ref.gff \\\n",
    "      -l \"spades_default, spades_kmers_careful, megahit_default, megahit_min_count_3\" \\\n",
    "      -t 4 -m 1000 spades_default_assembly/contigs.fasta \\\n",
    "      spades_kmers_set_careful_assembly/contigs.fasta \\\n",
    "      megahit_default_assembly/final.contigs.fa \\\n",
    "      megahit_min_count_3_assembly/final.contigs.fa"
   ]
  }
 ],
 "metadata": {
  "kernelspec": {
   "display_name": "Python 3 (ipykernel)",
   "language": "python",
   "name": "python3"
  },
  "language_info": {
   "codemirror_mode": {
    "name": "ipython",
    "version": 3
   },
   "file_extension": ".py",
   "mimetype": "text/x-python",
   "name": "python",
   "nbconvert_exporter": "python",
   "pygments_lexer": "ipython3",
   "version": "3.11.0"
  }
 },
 "nbformat": 4,
 "nbformat_minor": 5
}
