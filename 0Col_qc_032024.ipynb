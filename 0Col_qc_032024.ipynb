{
 "cells": [
  {
   "cell_type": "markdown",
   "id": "77e041a7-96d0-4ff1-a21c-a930025aad11",
   "metadata": {},
   "source": [
    "# QC and trimming COL_032024 seq data "
   ]
  },
  {
   "cell_type": "code",
   "execution_count": null,
   "id": "2d1af6d7-855b-4bd6-90a4-8d12b4e30bf2",
   "metadata": {},
   "outputs": [],
   "source": [
    "#INSTALLATION\n",
    "module load conda/latest\n",
    "conda create -n qc\n",
    "conda activate qc\n",
    "conda install -c bioconda trim-galore"
   ]
  },
  {
   "cell_type": "code",
   "execution_count": null,
   "id": "6b4f3061-ba3c-4855-88cb-8ab1fd2c2d0b",
   "metadata": {},
   "outputs": [],
   "source": [
    "sbatch Col_qc.sh"
   ]
  },
  {
   "cell_type": "code",
   "execution_count": null,
   "id": "edc94b41-0a8d-46d2-82c0-f12f0335252c",
   "metadata": {},
   "outputs": [],
   "source": [
    "#!/bin/bash\n",
    "#SBATCH -c 24  # Number of Cores per Task\n",
    "#SBATCH --mem=50G  # Requested Memory\n",
    "#SBATCH -p cpu  # Partition\n",
    "#SBATCH -t 24:00:00  # Job time limit\n",
    "#SBATCH --mail-type=ALL\n",
    "#SBATCH -o /work/pi_sarah_gignouxwolfsohn_uml_edu/nikea/COL/slurm-qc-%j.out  # %j = job ID\n",
    "\n",
    "module load conda/latest\n",
    "\n",
    "# Run qc with trim galore and fastqc\n",
    "conda activate qc\n",
    "\n",
    "# Define the paths and variables\n",
    "FILEPATH='/project/pi_sarah_gignouxwolfsohn_uml_edu/nikea/COL_files/10162024fastq_data'\n",
    "OUTPUT_RESULTS='/work/pi_sarah_gignouxwolfsohn_uml_edu/nikea/COL/trimmed'\n",
    "NSLOTS=4  \n",
    "\n",
    "#create filename if not already created\n",
    "ls $FILEPATH -1 | sed 's/_R.*_001.fastq.gz//' | uniq | cat > $OUTPUT_RESULTS/'032024_sampleids.txt'\n",
    "\n",
    "SAMPLE_NAMES_FILE=\"/work/pi_sarah_gignouxwolfsohn_uml_edu/nikea/COL/trimmed/032024_sampleids.txt\"\n",
    "\n",
    "# Check if the file exists\n",
    "if [ ! -e \"$SAMPLE_NAMES_FILE\" ]; then\n",
    "    echo \"Error: $SAMPLE_NAMES_FILE does not exist.\"\n",
    "    exit 1\n",
    "fi\n",
    "\n",
    "# Read each line from the file and perform actions\n",
    "while IFS= read -r sample_id; do\n",
    "    # Form the full file names\n",
    "    input_r1=\"$FILEPATH/${sample_id}_R1_001.fastq.gz\"\n",
    "    input_r2=\"$FILEPATH/${sample_id}_R2_001.fastq.gz\"\n",
    "    \n",
    "    # Ensure the input files exist before running the tools\n",
    "    if [ ! -e \"$input_r1\" ] || [ ! -e \"$input_r2\" ]; then\n",
    "        echo \"Error: Input files do not exist for sample $sample_id\"\n",
    "        continue\n",
    "    fi\n",
    "\n",
    "    # Run trim_galore\n",
    "    trim_galore -j \"$NSLOTS\" -q 20 --phred33 --length 20 --paired $input_r1 $input_r2 --fastqc -o $OUTPUT_RESULTS\n",
    "\n",
    "\n",
    "done < \"$SAMPLE_NAMES_FILE\"\n",
    "\n",
    "# bash script file name: Col_qc\n",
    "# JOB-ID: 26388440\n",
    "#trimmed read seqs in folder: /work/pi_sarah_gignouxwolfsohn_uml_edu/nikea/COL/trimmed"
   ]
  },
  {
   "cell_type": "markdown",
   "id": "e40b6ff5-a7db-4c84-8c6c-30aca3210a00",
   "metadata": {},
   "source": [
    "This script ran well but I maxxed out workspace storage!! \n",
    "\n",
    "Removed the --don't_gzip flag, moved sequence data to project/COL_files and then will delete raw fastq when trim galore is finished.\n",
    "**These changes are reflected in the above bash script (Col_qc.sh)**.\n",
    "\n",
    "Output files: \n",
    "\n",
    "#SAMPLEID_R1_001.fastq.gz_trimming_report.txt \\\n",
    "#SAMPLEID_R1_001_val_1.fq.gz \\\n",
    "#SAMPLEID_R1_001_val_1_fastqc.html \\\n",
    "#SAMPLEID_R1_001_val_1_fastqc.zip \\\n",
    "#SAMPLEID_R2_001.fastq.gz_trimming_report.txt \\\n",
    "#SAMPLEID_R2_001_val_2.fq.gz \\\n",
    "#SAMPLEID_R2_001_val_2_fastqc.html \\\n",
    "#SAMPLEID_R2_001_val_2_fastqc.zip \\\n",
    "*kept all for multiqc*"
   ]
  },
  {
   "cell_type": "markdown",
   "id": "e19996f6-fc41-461e-9524-2cd755e3776f",
   "metadata": {},
   "source": [
    "## MultiQC documentation\n",
    "    https://github.com/MultiQC/MultiQC/ "
   ]
  },
  {
   "cell_type": "code",
   "execution_count": null,
   "id": "b6ff971c-a7a7-4cc3-90c5-b976f4b194e5",
   "metadata": {},
   "outputs": [],
   "source": [
    "# Installation\n",
    "module load conda/latest\n",
    "conda create --name multiqc python=3.11\n",
    "conda activate multiqc\n",
    "conda install -c bioconda multiqc "
   ]
  },
  {
   "cell_type": "code",
   "execution_count": null,
   "id": "a7fd24f3-efe6-4d1d-b9b9-8fd32f73a547",
   "metadata": {},
   "outputs": [],
   "source": [
    "conda activate multiqc \n",
    "# in directory with fastqc output: /work/pi_sarah_gignouxwolfsohn_uml_edu/nikea/COL/trimmed\n",
    "multiqc .\n",
    "conda deactivate"
   ]
  },
  {
   "cell_type": "markdown",
   "id": "af44dda7-77bd-4494-a26c-d4ecf6f53483",
   "metadata": {},
   "source": [
    "Output files:\n",
    "\n",
    "#multiqc_data \\\n",
    "#multiqc_report.html (download this file)"
   ]
  },
  {
   "cell_type": "markdown",
   "id": "bea5310d-fc57-4155-8edc-1418dbe8aba2",
   "metadata": {},
   "source": [
    "### For 032024 samples"
   ]
  },
  {
   "cell_type": "markdown",
   "id": "edd453d0-1c0e-4b26-babc-e5e5960efe3b",
   "metadata": {},
   "source": [
    "Sequence data looks good. 032024_COL_SAN_T5_158_DLAB_S15_R1_001_val_1/2 has the lowest seq read count with 48.2 M and 032024_COL_SAN_T5_130_MCAV_S37_R1_001_val/2 has the high seq read count with 88.6 M."
   ]
  },
  {
   "cell_type": "markdown",
   "id": "1750e2a0-33d2-4801-b797-0bcb2b7598a9",
   "metadata": {},
   "source": [
    "Saved MultiQC General Statistics Table in COL_files.\n",
    "\n",
    "Moved QC reports (zip,html,txt files) to /project/pi_sarah_gignouxwolfsohn_uml_edu/nikea/COL_files/032024_fastqc_reports/\n",
    "\n",
    "Moved trimmed seq data into respective coral species directory for next step: OFAV, PSTR, DLAB, MCAV"
   ]
  }
 ],
 "metadata": {
  "kernelspec": {
   "display_name": "Python 3 (ipykernel)",
   "language": "python",
   "name": "python3"
  },
  "language_info": {
   "codemirror_mode": {
    "name": "ipython",
    "version": 3
   },
   "file_extension": ".py",
   "mimetype": "text/x-python",
   "name": "python",
   "nbconvert_exporter": "python",
   "pygments_lexer": "ipython3",
   "version": "3.11.0"
  }
 },
 "nbformat": 4,
 "nbformat_minor": 5
}
